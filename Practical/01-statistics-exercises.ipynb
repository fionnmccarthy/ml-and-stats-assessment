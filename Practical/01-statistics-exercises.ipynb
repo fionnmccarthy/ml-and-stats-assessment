{
 "cells": [
  {
   "cell_type": "markdown",
   "id": "00cf6ea1",
   "metadata": {},
   "source": [
    "<h3 style=\"color: #001a79;\">Exercise 1.1</h3>\n",
    "\n",
    "<hr style=\"border-top: 1px solid #001a79;\" />\n",
    "\n",
    "In Fisher's study of the tea problem, should the subject pick the correct four cups with milk in them first, there is only a 1 in 70 (~1.4%) chance of them having done that if they were simply guessing.\n",
    "\n",
    "<h4>Exercise:</h4>\n",
    "The above gives about a 1.5% chance of randomly selecting the correct cups. Calculate the minimum number of cups of tea required to ensure the probability of randomly selecting the correct cups is less than or equal to 1%."
   ]
  },
  {
   "cell_type": "markdown",
   "id": "89157b99",
   "metadata": {},
   "source": [
    "The below has been adopted form this link: https://stackoverflow.com/a/4941932"
   ]
  },
  {
   "cell_type": "code",
   "execution_count": 1,
   "id": "6a7d44d2",
   "metadata": {},
   "outputs": [],
   "source": [
    "# Math module imported\n",
    "import math"
   ]
  },
  {
   "cell_type": "code",
   "execution_count": 2,
   "id": "7bdc38d3",
   "metadata": {},
   "outputs": [
    {
     "data": {
      "text/plain": [
       "70"
      ]
     },
     "execution_count": 2,
     "metadata": {},
     "output_type": "execute_result"
    }
   ],
   "source": [
    "# Number of ways of selecting 4 cups from 8 cups\n",
    "math.comb(8, 4)"
   ]
  },
  {
   "cell_type": "code",
   "execution_count": 3,
   "id": "c3d410c2",
   "metadata": {},
   "outputs": [
    {
     "data": {
      "text/plain": [
       "252"
      ]
     },
     "execution_count": 3,
     "metadata": {},
     "output_type": "execute_result"
    }
   ],
   "source": [
    "# Number of ways of selecting 5 cups from 10 cups\n",
    "math.comb(10, 5)"
   ]
  },
  {
   "cell_type": "code",
   "execution_count": 4,
   "id": "b968597a",
   "metadata": {},
   "outputs": [
    {
     "data": {
      "text/plain": [
       "0.003968253968253968"
      ]
     },
     "execution_count": 4,
     "metadata": {},
     "output_type": "execute_result"
    }
   ],
   "source": [
    "# Probability of randomly selecting correct 5 cups is:\n",
    "1.0 / math.comb(10, 5)"
   ]
  },
  {
   "cell_type": "markdown",
   "id": "b1e4692e",
   "metadata": {},
   "source": [
    "Therefore, if this experiment was done with 10 cups of teas, where it has five with milk in first and five with tea in first. Then the chance of selecting correctly at random is much less than 1%.\n"
   ]
  },
  {
   "cell_type": "markdown",
   "id": "9941d1e2",
   "metadata": {},
   "source": [
    "To abide by the experiment design of ahving equal amounts of milk first cups and equal amounts of tea first cups then teh minimum number of cups would be 10."
   ]
  },
  {
   "cell_type": "markdown",
   "id": "60591068",
   "metadata": {},
   "source": [
    "*Bonus:* How many would be required if you were to let the taster get one cup wrong while maintaining the 1% threshold?"
   ]
  },
  {
   "cell_type": "code",
   "execution_count": null,
   "id": "2738eee4",
   "metadata": {},
   "outputs": [],
   "source": []
  },
  {
   "cell_type": "code",
   "execution_count": null,
   "id": "9fb12d0d",
   "metadata": {},
   "outputs": [],
   "source": []
  },
  {
   "cell_type": "code",
   "execution_count": null,
   "id": "8b34ccf3",
   "metadata": {},
   "outputs": [],
   "source": []
  },
  {
   "cell_type": "code",
   "execution_count": null,
   "id": "d62f501e",
   "metadata": {},
   "outputs": [],
   "source": []
  },
  {
   "cell_type": "code",
   "execution_count": null,
   "id": "921757c3",
   "metadata": {},
   "outputs": [],
   "source": []
  },
  {
   "cell_type": "code",
   "execution_count": null,
   "id": "c324559e",
   "metadata": {},
   "outputs": [],
   "source": []
  },
  {
   "cell_type": "code",
   "execution_count": null,
   "id": "ce6d8470",
   "metadata": {},
   "outputs": [],
   "source": []
  },
  {
   "cell_type": "markdown",
   "id": "e957dad6",
   "metadata": {},
   "source": [
    "<h3 style=\"color: #001a79;\">Exercise 1.2</h3>\n",
    "\n",
    "<hr style=\"border-top: 1px solid #001a79;\" />\n",
    "\n",
    "<h4>Exercise:</h4>\n",
    "Use <a href=\"https://docs.scipy.org/doc/scipy/reference/generated/scipy.stats.fisher_exact.html\" style=\"color: #ff791e\">scipy's version of Fisher's exact test</a> to simulate the Lady Tasting Tea problem.\n"
   ]
  },
  {
   "cell_type": "code",
   "execution_count": 9,
   "id": "59f61193",
   "metadata": {},
   "outputs": [],
   "source": [
    "# Statistical methods imported \n",
    "import scipy.stats as ss"
   ]
  },
  {
   "cell_type": "code",
   "execution_count": 10,
   "id": "2f1f1395",
   "metadata": {},
   "outputs": [
    {
     "data": {
      "text/plain": [
       "<function scipy.stats.stats.fisher_exact(table, alternative='two-sided')>"
      ]
     },
     "execution_count": 10,
     "metadata": {},
     "output_type": "execute_result"
    }
   ],
   "source": [
    "ss.fisher_exact"
   ]
  },
  {
   "cell_type": "code",
   "execution_count": 11,
   "id": "93b31616",
   "metadata": {},
   "outputs": [
    {
     "data": {
      "text/plain": [
       "(inf, 0.028571428571428536)"
      ]
     },
     "execution_count": 11,
     "metadata": {},
     "output_type": "execute_result"
    }
   ],
   "source": [
    "ss.fisher_exact([[4, 0], [0, 4]])"
   ]
  },
  {
   "cell_type": "markdown",
   "id": "1c389a29",
   "metadata": {},
   "source": [
    "The above is double the probability of geting 4 in 8 cups correct. See below"
   ]
  },
  {
   "cell_type": "code",
   "execution_count": 12,
   "id": "9071a142",
   "metadata": {},
   "outputs": [
    {
     "data": {
      "text/plain": [
       "0.02857142857142857"
      ]
     },
     "execution_count": 12,
     "metadata": {},
     "output_type": "execute_result"
    }
   ],
   "source": [
    "0.014285714285714285 * 2"
   ]
  },
  {
   "cell_type": "code",
   "execution_count": 14,
   "id": "10958401",
   "metadata": {},
   "outputs": [],
   "source": [
    "oddsratio, pvalue = ss.fisher_exact([[4, 0], [0, 4]])"
   ]
  },
  {
   "cell_type": "code",
   "execution_count": 16,
   "id": "8a3340db",
   "metadata": {},
   "outputs": [
    {
     "data": {
      "text/plain": [
       "0.028571428571428536"
      ]
     },
     "execution_count": 16,
     "metadata": {},
     "output_type": "execute_result"
    }
   ],
   "source": [
    "pvalue"
   ]
  },
  {
   "cell_type": "code",
   "execution_count": 17,
   "id": "c702c71f",
   "metadata": {},
   "outputs": [
    {
     "data": {
      "text/plain": [
       "inf"
      ]
     },
     "execution_count": 17,
     "metadata": {},
     "output_type": "execute_result"
    }
   ],
   "source": [
    "oddsratio"
   ]
  },
  {
   "cell_type": "code",
   "execution_count": 25,
   "id": "ad50a695",
   "metadata": {},
   "outputs": [
    {
     "name": "stdout",
     "output_type": "stream",
     "text": [
      "\n",
      "--- A Lady Tasting Tea (Fisher Exact Test) ---\n",
      "The chance that the lady selects 3 or more cups correctly by chance is 0.243\n"
     ]
    }
   ],
   "source": [
    "# adpoted from https://link.springer.com/content/pdf/bbm:978-3-319-28316-6/1.pdf\n",
    "\n",
    "from scipy import stats\n",
    "obs = [[3,1], [1,3]]\n",
    "_, p = stats.fisher_exact(obs, alternative='greater')\n",
    "print('\\n--- A Lady Tasting Tea (Fisher Exact Test) ---')\n",
    "print('The chance that the lady selects 3 or more cups correctly by chance is {0:5.3f}'.format(p))"
   ]
  },
  {
   "cell_type": "code",
   "execution_count": 26,
   "id": "d95a28c7",
   "metadata": {},
   "outputs": [
    {
     "name": "stdout",
     "output_type": "stream",
     "text": [
      "\n",
      "--- A Lady Tasting Tea (Fisher Exact Test) ---\n",
      "The chance that the lady selects 4 cups correctly by chance is 0.014\n"
     ]
    }
   ],
   "source": [
    "\n",
    "obs2 = [[4,0], [0,4]]\n",
    "_, p2 = stats.fisher_exact(obs2, alternative='greater')\n",
    "print('\\n--- A Lady Tasting Tea (Fisher Exact Test) ---')\n",
    "print('The chance that the lady selects 4 cups correctly by chance is {0:5.3f}'.format(p2))"
   ]
  },
  {
   "cell_type": "markdown",
   "id": "7f11f715",
   "metadata": {},
   "source": [
    "https://geanders.github.io/RProgrammingForResearch/exploring-data-3.html details experiment\n",
    "https://docs.scipy.org/doc/scipy/reference/generated/scipy.stats.fisher_exact.html"
   ]
  },
  {
   "cell_type": "markdown",
   "id": "aa376041",
   "metadata": {},
   "source": []
  }
 ],
 "metadata": {
  "kernelspec": {
   "display_name": "Python 3",
   "language": "python",
   "name": "python3"
  },
  "language_info": {
   "codemirror_mode": {
    "name": "ipython",
    "version": 3
   },
   "file_extension": ".py",
   "mimetype": "text/x-python",
   "name": "python",
   "nbconvert_exporter": "python",
   "pygments_lexer": "ipython3",
   "version": "3.8.8"
  }
 },
 "nbformat": 4,
 "nbformat_minor": 5
}
