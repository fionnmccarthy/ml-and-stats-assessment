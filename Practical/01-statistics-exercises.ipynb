{
 "cells": [
  {
   "cell_type": "markdown",
   "id": "00cf6ea1",
   "metadata": {},
   "source": [
    "<h3 style=\"color: #001a79;\">Exercise 1.1</h3>\n",
    "\n",
    "<hr style=\"border-top: 1px solid #001a79;\" />\n",
    "\n",
    "In Fisher's study of the tea problem, should the subject pick the correct four cups with milk in them first, there is only a 1 in 70 (~1.4%) chance of them having done that if they were simply guessing.\n",
    "\n",
    "<h4>Exercise:</h4>\n",
    "The above gives about a 1.5% chance of randomly selecting the correct cups. Calculate the minimum number of cups of tea required to ensure the probability of randomly selecting the correct cups is less than or equal to 1%."
   ]
  },
  {
   "cell_type": "markdown",
   "id": "89157b99",
   "metadata": {},
   "source": [
    "The below has been adopted form this link: https://stackoverflow.com/a/4941932"
   ]
  },
  {
   "cell_type": "code",
   "execution_count": 1,
   "id": "6a7d44d2",
   "metadata": {},
   "outputs": [],
   "source": [
    "# Math module imported\n",
    "import math"
   ]
  },
  {
   "cell_type": "code",
   "execution_count": 2,
   "id": "7bdc38d3",
   "metadata": {},
   "outputs": [
    {
     "data": {
      "text/plain": [
       "70"
      ]
     },
     "execution_count": 2,
     "metadata": {},
     "output_type": "execute_result"
    }
   ],
   "source": [
    "# Number of ways of selecting 4 cups from 8 cups\n",
    "math.comb(8, 4)"
   ]
  },
  {
   "cell_type": "code",
   "execution_count": 3,
   "id": "c3d410c2",
   "metadata": {},
   "outputs": [
    {
     "data": {
      "text/plain": [
       "252"
      ]
     },
     "execution_count": 3,
     "metadata": {},
     "output_type": "execute_result"
    }
   ],
   "source": [
    "# Number of ways of selecting 5 cups from 10 cups\n",
    "math.comb(10, 5)"
   ]
  },
  {
   "cell_type": "code",
   "execution_count": 4,
   "id": "b968597a",
   "metadata": {},
   "outputs": [
    {
     "data": {
      "text/plain": [
       "0.003968253968253968"
      ]
     },
     "execution_count": 4,
     "metadata": {},
     "output_type": "execute_result"
    }
   ],
   "source": [
    "# Probability of randomly selecting correct 5 cups is:\n",
    "1.0 / math.comb(10, 5)"
   ]
  },
  {
   "cell_type": "markdown",
   "id": "b1e4692e",
   "metadata": {},
   "source": [
    "Therefore, if this experiment was done with 10 cups of teas, where it has five with milk in first and five with tea in first. Then the chance of selecting correctly at random is much less than 1%.\n"
   ]
  },
  {
   "cell_type": "markdown",
   "id": "9941d1e2",
   "metadata": {},
   "source": [
    "To abide by the experiment design of ahving equal amounts of milk first cups and equal amounts of tea first cups then teh minimum number of cups would be 10."
   ]
  },
  {
   "cell_type": "markdown",
   "id": "60591068",
   "metadata": {},
   "source": [
    "*Bonus:* How many would be required if you were to let the taster get one cup wrong while maintaining the 1% threshold?"
   ]
  },
  {
   "cell_type": "code",
   "execution_count": null,
   "id": "2738eee4",
   "metadata": {},
   "outputs": [],
   "source": []
  },
  {
   "cell_type": "markdown",
   "id": "e957dad6",
   "metadata": {},
   "source": [
    "<hr style=\"border-top: 1px solid #001a79;\" />\n",
    "<hr style=\"border-top: 1px solid #001a79;\" />\n",
    "<h3 style=\"color: #001a79;\">Exercise 1.2</h3>\n",
    "\n",
    "<hr style=\"border-top: 1px solid #001a79;\" />\n",
    "\n",
    "<h4>Exercise:</h4>\n",
    "Use <a href=\"https://docs.scipy.org/doc/scipy/reference/generated/scipy.stats.fisher_exact.html\" style=\"color: #ff791e\">scipy's version of Fisher's exact test</a> to simulate the Lady Tasting Tea problem.\n"
   ]
  },
  {
   "cell_type": "code",
   "execution_count": 107,
   "id": "59f61193",
   "metadata": {},
   "outputs": [],
   "source": [
    "# Statistical methods imported \n",
    "from scipy.stats import hypergeom\n",
    "from scipy.stats import fisher_exact \n",
    "import numpy as np\n",
    "import pandas as pd"
   ]
  },
  {
   "cell_type": "code",
   "execution_count": 109,
   "id": "2f1f1395",
   "metadata": {},
   "outputs": [
    {
     "data": {
      "text/html": [
       "<div>\n",
       "<style scoped>\n",
       "    .dataframe tbody tr th:only-of-type {\n",
       "        vertical-align: middle;\n",
       "    }\n",
       "\n",
       "    .dataframe tbody tr th {\n",
       "        vertical-align: top;\n",
       "    }\n",
       "\n",
       "    .dataframe thead th {\n",
       "        text-align: right;\n",
       "    }\n",
       "</style>\n",
       "<table border=\"1\" class=\"dataframe\">\n",
       "  <thead>\n",
       "    <tr style=\"text-align: right;\">\n",
       "      <th></th>\n",
       "      <th>Guessed Milk First</th>\n",
       "      <th>Guessed Tea First</th>\n",
       "    </tr>\n",
       "  </thead>\n",
       "  <tbody>\n",
       "    <tr>\n",
       "      <th>Poured Milk First</th>\n",
       "      <td>4</td>\n",
       "      <td>0</td>\n",
       "    </tr>\n",
       "    <tr>\n",
       "      <th>Poured Tea First</th>\n",
       "      <td>0</td>\n",
       "      <td>4</td>\n",
       "    </tr>\n",
       "  </tbody>\n",
       "</table>\n",
       "</div>"
      ],
      "text/plain": [
       "                   Guessed Milk First  Guessed Tea First\n",
       "Poured Milk First                   4                  0\n",
       "Poured Tea First                    0                  4"
      ]
     },
     "execution_count": 109,
     "metadata": {},
     "output_type": "execute_result"
    }
   ],
   "source": [
    "ar=np.array([[4, 0],[0, 4]])    \n",
    "df=pd.DataFrame(ar, columns=[\"Guessed Milk First\", \"Guessed Tea First\"])\n",
    "df.index=[\"Poured Milk First\", \"Poured Tea First\"] \n",
    "df "
   ]
  },
  {
   "cell_type": "code",
   "execution_count": 114,
   "id": "93b31616",
   "metadata": {},
   "outputs": [
    {
     "data": {
      "text/plain": [
       "(0, 4)"
      ]
     },
     "execution_count": 114,
     "metadata": {},
     "output_type": "execute_result"
    }
   ],
   "source": [
    "# imported from https://docs.scipy.org/doc/scipy/reference/generated/scipy.stats.fisher_exact.html\n",
    "#altered for this tea tasting test\n",
    "table = np.array([[4, 0], [0, 4]])\n",
    "M = table.sum()\n",
    "n = table[0].sum()\n",
    "N = table[:, 0].sum()\n",
    "start, end = hypergeom.support(M, n, N)\n",
    "start, end "
   ]
  },
  {
   "cell_type": "code",
   "execution_count": 119,
   "id": "8332458a-3c78-405b-8db8-eb043567a8ea",
   "metadata": {},
   "outputs": [
    {
     "data": {
      "text/plain": [
       "array([0.01428571, 0.22857143, 0.51428571, 0.22857143, 0.01428571])"
      ]
     },
     "execution_count": 119,
     "metadata": {},
     "output_type": "execute_result"
    }
   ],
   "source": [
    "# getting the probabilities of getting a number correct.\n",
    "probabilties = (hypergeom.pmf(np.arange(start, end+1), M, n, N))\n",
    "probabilties"
   ]
  },
  {
   "cell_type": "code",
   "execution_count": 127,
   "id": "72b913b7-6197-4fc7-9460-5389966a2f12",
   "metadata": {},
   "outputs": [
    {
     "name": "stdout",
     "output_type": "stream",
     "text": [
      "Probability of the lady getting 0 cups correct is 0.014285714285714284\n",
      "Probability of the lady getting 1 cups correct is 0.22857142857142854\n",
      "Probability of the lady getting 2 cups correct is 0.5142857142857142\n",
      "Probability of the lady getting 3 cups correct is 0.22857142857142854\n",
      "Probability of the lady getting 4 cups correct is 0.014285714285714284\n"
     ]
    }
   ],
   "source": [
    "# create a data frame containing the number correct by index in array, and teh probability score calculated. \n",
    "correct_probabilities_df = pd.DataFrame([(i, j) for i, j in enumerate(probabilties)], columns=[' Number Correct', 'Probability '])\n",
    "\n",
    "for i, j in zip(range(start, end+1), probabilties):\n",
    "    print(f'Probability of the lady getting {i} cups correct is {j}')"
   ]
  },
  {
   "cell_type": "code",
   "execution_count": null,
   "id": "77828d74-5314-4a49-a0b0-cea762294935",
   "metadata": {},
   "outputs": [],
   "source": []
  },
  {
   "cell_type": "code",
   "execution_count": 9,
   "id": "10958401",
   "metadata": {},
   "outputs": [],
   "source": [
    "oddsratio, pvalue = ss.fisher_exact([[4, 0], [0, 4]])"
   ]
  },
  {
   "cell_type": "code",
   "execution_count": 10,
   "id": "8a3340db",
   "metadata": {},
   "outputs": [
    {
     "data": {
      "text/plain": [
       "0.028571428571428567"
      ]
     },
     "execution_count": 10,
     "metadata": {},
     "output_type": "execute_result"
    }
   ],
   "source": [
    "pvalue"
   ]
  },
  {
   "cell_type": "markdown",
   "id": "e120666f-973c-4786-b5c6-0623f9fad5bb",
   "metadata": {},
   "source": [
    "The above result of getting four cups from 8 is the same as getting 0 cups correct from 8. That is why we use the 'greater' than parameter in teh fishers exact test as seen below. "
   ]
  },
  {
   "cell_type": "code",
   "execution_count": 132,
   "id": "ad50a695",
   "metadata": {},
   "outputs": [
    {
     "name": "stdout",
     "output_type": "stream",
     "text": [
      "The chance that the lady selects 3 or more cups correctly by chance is 0.243\n",
      "The chance that the lady selects 4 or more cups correctly by chance is 0.014\n"
     ]
    }
   ],
   "source": [
    "# adpoted from https://link.springer.com/content/pdf/bbm:978-3-319-28316-6/1.pdf\n",
    "from scipy import stats\n",
    "obs = [[3,1], [1,3]]\n",
    "_, p = stats.fisher_exact(obs, alternative='greater')\n",
    "print('The chance that the lady selects 3 or more cups correctly by chance is {0:5.3f}'.format(p))\n",
    "\n",
    "obs2 = [[4,0], [0,4]]\n",
    "_, p2 = stats.fisher_exact(obs2, alternative='greater')\n",
    "print('The chance that the lady selects 4 or more cups correctly by chance is {0:5.3f}'.format(p2))"
   ]
  },
  {
   "cell_type": "markdown",
   "id": "7f11f715",
   "metadata": {},
   "source": [
    "https://geanders.github.io/RProgrammingForResearch/exploring-data-3.html details experiment\n",
    "https://docs.scipy.org/doc/scipy/reference/generated/scipy.stats.fisher_exact.html"
   ]
  },
  {
   "cell_type": "markdown",
   "id": "f86476f0-3bb1-4134-b7ab-cf26e9c066ed",
   "metadata": {},
   "source": [
    "<hr style=\"border-top: 1px solid #001a79;\" />\n",
    "<hr style=\"border-top: 1px solid #001a79;\" />\n",
    "<h3 style=\"color: #001a79;\">Exercise 2.1</h3>\n",
    "\n",
    "<hr style=\"border-top: 1px solid #001a79;\" />\n",
    "\n",
    "<h4>Exercise:</h4>\n",
    "Take the code from the <a href=\"https://docs.scipy.org/doc/scipy/reference/generated/scipy.stats.ttest_ind.html\" style=\"color: #ff791e\">Examples section of the scipy stats documentation for independent samples t-tests</a>, add it to your own notebook and add explain how it works using MarkDown cells and code comments. Improve it in any way you think it could be improved.\n"
   ]
  },
  {
   "cell_type": "markdown",
   "id": "acc1a033-f07f-4cdd-b4e6-dc970317c0e4",
   "metadata": {},
   "source": [
    "Maybe explain here what the t-test is and what it is used for in your own words. \n",
    "\n",
    "Initialising the number generator. "
   ]
  },
  {
   "cell_type": "code",
   "execution_count": 61,
   "id": "815d5b04-d2a4-48b9-a169-dd10461a1ba0",
   "metadata": {},
   "outputs": [],
   "source": [
    "#import the stats library\n",
    "from scipy import stats\n",
    "rng = np.random.default_rng()"
   ]
  },
  {
   "cell_type": "markdown",
   "id": "b32ac0c0-5f59-4ae6-b521-517520717633",
   "metadata": {},
   "source": [
    "The below example code will declare two variables which are rsv1 and rsv2. Both variables contain randomly generated taken data from a normal distribution. Both data sets will have an equal mean (loc) of 5, equal standard deviation (scale) of 10 and there is a smaple size of 500 in each variable also. The functionttest_ind() is then used to calculate the T-test for the means of two independent samples. This test assumes that the populations have identical variances by default as it is not specified below as an input. We are asumming euqal variances here. "
   ]
  },
  {
   "cell_type": "code",
   "execution_count": 62,
   "id": "14145cbb-cd36-45ad-bfc4-20e2e4a7f53e",
   "metadata": {},
   "outputs": [
    {
     "data": {
      "text/plain": [
       "Ttest_indResult(statistic=0.7139387020743987, pvalue=0.475432015669907)"
      ]
     },
     "execution_count": 62,
     "metadata": {},
     "output_type": "execute_result"
    }
   ],
   "source": [
    "rvs1 = stats.norm.rvs(loc=5, scale=10, size=500, random_state=rng)\n",
    "rvs2 = stats.norm.rvs(loc=5, scale=10, size=500, random_state=rng)\n",
    "stats.ttest_ind(rvs1, rvs2)"
   ]
  },
  {
   "cell_type": "markdown",
   "id": "1d814b22-ffe4-4eca-a4bc-35b01c32ed6d",
   "metadata": {},
   "source": [
    "The above p-value is 0.83 which menas there is not strong enough evidence to suggest a difference exists between both sets of data. Therefore they can be treated as equal."
   ]
  },
  {
   "cell_type": "markdown",
   "id": "546cbae4-d1b8-4010-9ee7-d526259396f9",
   "metadata": {},
   "source": [
    "The test is performed again beow, but this time we assume that there is a difference in mean between the two sets of data by setting equal_var=False. We are assuming unequal variances here. We can see that the statistic and p-value are almost identical given the data is generated in teh same way, when we carry out T-test assuming equal variances and assuming unequal variances. "
   ]
  },
  {
   "cell_type": "code",
   "execution_count": 63,
   "id": "5e999e2c-a0f3-4397-a041-96f6051d3944",
   "metadata": {},
   "outputs": [
    {
     "data": {
      "text/plain": [
       "Ttest_indResult(statistic=0.7139387020743987, pvalue=0.4754320500459849)"
      ]
     },
     "execution_count": 63,
     "metadata": {},
     "output_type": "execute_result"
    }
   ],
   "source": [
    "stats.ttest_ind(rvs1, rvs2, equal_var=False)"
   ]
  },
  {
   "cell_type": "markdown",
   "id": "553ace78-be09-41e2-b76e-8f129b160422",
   "metadata": {},
   "source": [
    "The variable rvs3 is created to randomly generate data from a normal distribution, although this time the standard deviation is changed from 10 to 20 in this variable. "
   ]
  },
  {
   "cell_type": "code",
   "execution_count": 64,
   "id": "01894f98-3822-4be6-9497-80ff4c690428",
   "metadata": {},
   "outputs": [
    {
     "data": {
      "text/plain": [
       "Ttest_indResult(statistic=1.0721708635153386, pvalue=0.2839024893345861)"
      ]
     },
     "execution_count": 64,
     "metadata": {},
     "output_type": "execute_result"
    }
   ],
   "source": [
    "rvs3 = stats.norm.rvs(loc=5, scale=20, size=500, random_state=rng)\n",
    "stats.ttest_ind(rvs1, rvs3)"
   ]
  },
  {
   "cell_type": "markdown",
   "id": "2e0951c9-6067-494b-98ae-842b8b21692b",
   "metadata": {},
   "source": [
    "The above shows proof that the T-test shows that we cannot reject the null hypothesis that there is a difference in varinace between both sets of data, this is the same for when we assume unequal variance between both sets of data as seen below. The stats.ttest_ind() test will underestimate the p-value for unequal variances as it not did give sufficient evidence to reject the null hypthesis. The test statistic and remains much the same here, with a very minor change in p-value with the differnec in standard deviation between the two data sets. "
   ]
  },
  {
   "cell_type": "code",
   "execution_count": 65,
   "id": "9adfe5c0-45e0-415a-94a3-3ad1ad57af1b",
   "metadata": {},
   "outputs": [
    {
     "data": {
      "text/plain": [
       "Ttest_indResult(statistic=1.0721708635153386, pvalue=0.28399449372644947)"
      ]
     },
     "execution_count": 65,
     "metadata": {},
     "output_type": "execute_result"
    }
   ],
   "source": [
    "stats.ttest_ind(rvs1, rvs3, equal_var=False)"
   ]
  },
  {
   "cell_type": "markdown",
   "id": "64193cf9-1db1-4c28-8911-7053b7ef8379",
   "metadata": {},
   "source": [
    "The variable rvs4 is created to randomly generate data from a normal distribution, although this time the size of the array is decreased from 500 to 100 and the standard deviation is set to 20, same as rvs3."
   ]
  },
  {
   "cell_type": "code",
   "execution_count": 66,
   "id": "14e5a003-8a27-4d83-82a8-4becc0b4dfaa",
   "metadata": {},
   "outputs": [
    {
     "data": {
      "text/plain": [
       "Ttest_indResult(statistic=1.763856506620343, pvalue=0.07826670742484074)"
      ]
     },
     "execution_count": 66,
     "metadata": {},
     "output_type": "execute_result"
    }
   ],
   "source": [
    "rvs4 = stats.norm.rvs(loc=5, scale=20, size=100, random_state=rng)\n",
    "stats.ttest_ind(rvs1, rvs4)"
   ]
  },
  {
   "cell_type": "code",
   "execution_count": 67,
   "id": "c6086b30-1b17-46f7-9ac0-b50debaf3ad0",
   "metadata": {},
   "outputs": [
    {
     "data": {
      "text/plain": [
       "Ttest_indResult(statistic=1.1611152869055066, pvalue=0.2481231128645621)"
      ]
     },
     "execution_count": 67,
     "metadata": {},
     "output_type": "execute_result"
    }
   ],
   "source": [
    "stats.ttest_ind(rvs1, rvs4, equal_var=False)"
   ]
  },
  {
   "cell_type": "markdown",
   "id": "27f88135-b62e-4fd1-92a0-16a1a7da49ee",
   "metadata": {},
   "source": [
    "The above results show that when the size of data sets are changed there is a change in the equal variance t-statistic between the two tests carried out. We are now comparing two datasets of different sizes. \n",
    "\n",
    "The variable rvs5 is created to randomly generate data from a normal distribution, although this time the size of the array is decreased from 500 to 100 agian and the standard deviation is set to 20, same as rvs3 and rvs4 but we also change the mean of this set of data by increasing form 5 to 8. "
   ]
  },
  {
   "cell_type": "code",
   "execution_count": 68,
   "id": "bfa368ba-a643-4153-9539-de775a95b870",
   "metadata": {},
   "outputs": [
    {
     "data": {
      "text/plain": [
       "Ttest_indResult(statistic=-2.65921049017128, pvalue=0.00804222364944133)"
      ]
     },
     "execution_count": 68,
     "metadata": {},
     "output_type": "execute_result"
    }
   ],
   "source": [
    "rvs5 = stats.norm.rvs(loc=8, scale=20, size=100, random_state=rng)\n",
    "stats.ttest_ind(rvs1, rvs5)"
   ]
  },
  {
   "cell_type": "code",
   "execution_count": 69,
   "id": "f66fe94f-6762-44ce-a6b6-c28e631a7a85",
   "metadata": {},
   "outputs": [
    {
     "data": {
      "text/plain": [
       "Ttest_indResult(statistic=-1.820637728217217, pvalue=0.07135458072541585)"
      ]
     },
     "execution_count": 69,
     "metadata": {},
     "output_type": "execute_result"
    }
   ],
   "source": [
    "stats.ttest_ind(rvs1, rvs5, equal_var=False)"
   ]
  },
  {
   "cell_type": "markdown",
   "id": "a5c25821-ad14-4602-a145-8765e42f0aba",
   "metadata": {},
   "source": [
    "The t-statistic has changed to negative as the mean from sample rvs1 is less than that of rvs5. We can see how we have sufficient evidence to reject the null hypothesis that tehre is a difference between the sets of data as teh test has produced a p-value of less than 0.05. This has been proved by supplying a variable with different size, mean and standard deviation. There is a difference between the data sets. This is the same for assuming unequal variances as we cannot reject the hypthesis that there is a difference in variances between the data sets, as the p-value is greater than 0.05 here."
   ]
  },
  {
   "cell_type": "markdown",
   "id": "f45b9b74-eece-4958-ae3f-f2aef5fbced8",
   "metadata": {},
   "source": [
    "When performing a permutation test, more permutations typically yields more accurate results. The permutation paramter within the stats.ttest_ind() can yield more accurate results, therefore the permutations amount will specify the number of times we run the test which will give us a more accurate p-value. \n"
   ]
  },
  {
   "cell_type": "code",
   "execution_count": 70,
   "id": "6429da93-37ee-4556-b9c2-69f11afcbfd7",
   "metadata": {},
   "outputs": [
    {
     "data": {
      "text/plain": [
       "Ttest_indResult(statistic=-2.65921049017128, pvalue=0.0074)"
      ]
     },
     "execution_count": 70,
     "metadata": {},
     "output_type": "execute_result"
    }
   ],
   "source": [
    "import numpy as np\n",
    "rng = np.random.default_rng()\n",
    "\n",
    "stats.ttest_ind(rvs1, rvs5, permutations=10000,random_state=rng)"
   ]
  },
  {
   "cell_type": "markdown",
   "id": "a951146f-9daf-4b67-ba03-923047974310",
   "metadata": {},
   "source": [
    "Note how in the above, we still reject the null hypthesis above and the p-value has decreased. "
   ]
  },
  {
   "cell_type": "markdown",
   "id": "b852d497-e6dc-4e26-8244-239b94664a6c",
   "metadata": {},
   "source": [
    "Take these two samples, one of which has an extreme tail. Use the trim keyword to perform a trimmed (Yuen) t-test. For example, using 20% trimming, trim=.2, the test will reduce the impact of one (np.floor(trim*len(a))) element from each tail of sample a. It will have no effect on sample b because np.floor(trim*len(b)) is 0."
   ]
  },
  {
   "cell_type": "code",
   "execution_count": 72,
   "id": "85d0e347-6519-4dbe-8783-1f4509db1469",
   "metadata": {},
   "outputs": [],
   "source": [
    "a = (56, 128.6, 12, 123.8, 64.34, 78, 763.3)\n",
    "b = (1.1, 2.9, 4.2)"
   ]
  },
  {
   "cell_type": "markdown",
   "id": "89a2cf7c-db4b-4db1-a255-11c3888de413",
   "metadata": {},
   "source": [
    "The trim paramter here is used to trim extreme outliers within the data. A percentage of outliers will be trimmed form the data in a. It will reduce the impact that the value 763.3 will have on the test in this case. "
   ]
  },
  {
   "cell_type": "code",
   "execution_count": 73,
   "id": "254b8a9e-d73d-4310-b793-ebc3a3365edb",
   "metadata": {},
   "outputs": [
    {
     "data": {
      "text/plain": [
       "Ttest_indResult(statistic=3.4463884028073513, pvalue=0.01369338726499547)"
      ]
     },
     "execution_count": 73,
     "metadata": {},
     "output_type": "execute_result"
    }
   ],
   "source": [
    "stats.ttest_ind(a, b, trim=.2)"
   ]
  },
  {
   "cell_type": "markdown",
   "id": "a89dc8f7-a0a3-4d94-848c-a8d955e6da52",
   "metadata": {},
   "source": [
    "<hr style=\"border-top: 1px solid rgb(0, 91, 94);\" />\n",
    "\n",
    "<h2 style=\"color: rgb(0, 91, 94);\">End</h2>"
   ]
  },
  {
   "cell_type": "code",
   "execution_count": null,
   "id": "7d3fab17-6406-427e-b538-54ad28b7f671",
   "metadata": {},
   "outputs": [],
   "source": []
  },
  {
   "cell_type": "code",
   "execution_count": null,
   "id": "496f594d-48f4-43b1-8020-65e56dcbf889",
   "metadata": {},
   "outputs": [],
   "source": []
  },
  {
   "cell_type": "code",
   "execution_count": null,
   "id": "8409a737-8bf1-4079-8213-97ac3293ab69",
   "metadata": {},
   "outputs": [],
   "source": []
  },
  {
   "cell_type": "code",
   "execution_count": null,
   "id": "b595c8f4-a718-4bbd-bbd8-ab329da0c6ad",
   "metadata": {},
   "outputs": [],
   "source": []
  },
  {
   "cell_type": "code",
   "execution_count": null,
   "id": "b696b2e7-4244-46a9-ba4e-950cf678377b",
   "metadata": {},
   "outputs": [],
   "source": []
  },
  {
   "cell_type": "code",
   "execution_count": null,
   "id": "5e329e37-0e4f-4bd6-8652-0d148bfec066",
   "metadata": {},
   "outputs": [],
   "source": []
  }
 ],
 "metadata": {
  "kernelspec": {
   "display_name": "Python 3",
   "language": "python",
   "name": "python3"
  },
  "language_info": {
   "codemirror_mode": {
    "name": "ipython",
    "version": 3
   },
   "file_extension": ".py",
   "mimetype": "text/x-python",
   "name": "python",
   "nbconvert_exporter": "python",
   "pygments_lexer": "ipython3",
   "version": "3.8.8"
  }
 },
 "nbformat": 4,
 "nbformat_minor": 5
}
