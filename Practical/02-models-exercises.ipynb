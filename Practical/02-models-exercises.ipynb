{
 "cells": [
  {
   "cell_type": "markdown",
   "id": "e165430a-9836-4584-ba0d-78045b3048fa",
   "metadata": {},
   "source": [
    "<h3 style=\"color: #001a79;\">Exercise 2.1</h3>\n",
    "\n",
    "<hr style=\"border-top: 1px solid #001a79;\" />\n",
    "\n",
    "<h4>Exercise:</h4>\n",
    "Use numpy and matplotlib to plot the absolute value function.\n",
    "\n",
    "Research and explain why the absolute value function is not typically used in fitting straight lines to data."
   ]
  },
  {
   "cell_type": "markdown",
   "id": "2ac99e82-189d-41eb-934c-c6cd757e646b",
   "metadata": {},
   "source": [
    "Plot absoluet value function with numpy. \n",
    "Research why not usually used to fit straight lines ot data.\n",
    "\n",
    "Whatever limits you want. "
   ]
  },
  {
   "cell_type": "code",
   "execution_count": null,
   "id": "4fc860b8-864f-486e-86fd-837e42616a46",
   "metadata": {},
   "outputs": [],
   "source": []
  },
  {
   "cell_type": "code",
   "execution_count": null,
   "id": "152fdaa1-9ec9-40f6-bfc6-47a59a03c2fa",
   "metadata": {},
   "outputs": [],
   "source": []
  },
  {
   "cell_type": "code",
   "execution_count": null,
   "id": "3274ca58-f68d-41ad-946f-011fc0e02f6b",
   "metadata": {},
   "outputs": [],
   "source": []
  },
  {
   "cell_type": "code",
   "execution_count": null,
   "id": "40f5de17-de50-46a2-a90d-494113227927",
   "metadata": {},
   "outputs": [],
   "source": []
  },
  {
   "cell_type": "code",
   "execution_count": null,
   "id": "eebf0897-bbf9-40c4-ad77-37ab153e8081",
   "metadata": {},
   "outputs": [],
   "source": []
  },
  {
   "cell_type": "code",
   "execution_count": null,
   "id": "8f17398e-f763-4f46-9976-42a9093ca31c",
   "metadata": {},
   "outputs": [],
   "source": []
  },
  {
   "cell_type": "code",
   "execution_count": null,
   "id": "f2844d67-dad7-4e03-90f2-9a7430813504",
   "metadata": {},
   "outputs": [],
   "source": []
  }
 ],
 "metadata": {
  "kernelspec": {
   "display_name": "Python 3",
   "language": "python",
   "name": "python3"
  },
  "language_info": {
   "codemirror_mode": {
    "name": "ipython",
    "version": 3
   },
   "file_extension": ".py",
   "mimetype": "text/x-python",
   "name": "python",
   "nbconvert_exporter": "python",
   "pygments_lexer": "ipython3",
   "version": "3.8.8"
  }
 },
 "nbformat": 4,
 "nbformat_minor": 5
}
