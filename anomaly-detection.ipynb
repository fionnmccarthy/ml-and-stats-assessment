{
 "cells": [
  {
   "cell_type": "markdown",
   "id": "ff4d1862-6a39-41ac-a983-302d7dc53430",
   "metadata": {},
   "source": [
    "# Time Series Anomaly Detection using Keras\n",
    "\n",
    "## Fionn McCarthy - G00301126\n",
    "\n",
    "<hr style=\"border-top: 1px solid #001a79;\" />\n",
    "\n",
    "## Introduction \n",
    "In this notebook I will run through the Keras Timeseries anomaly detection notebook https://github.com/keras-team/keras-io/blob/master/examples/timeseries/timeseries_anomaly_detection.py . I will explore the same concepts used in this notebook with the hope to give a more in-depth understanding of the topic and the terminologies and methods used in the notebook. This jupyter notebook will look at how a reconstruction convolutional autoencoder model can be used in order to detect anomalies in timeseries data. I aim to break down teh process being followed on the process website along with trying to explain what each section of code is trying to do. \n",
    "<br>\n",
    "<br>\n",
    "### Tensorflow and Keras\n",
    "The open source library Tensorflow is utilised in this notebook as it is utilised for numerical computation which enables fast and efficient use of machine learning and developing neural networks https://www.infoworld.com/article/3278008/what-is-tensorflow-the-machine-learning-library-explained.html. <br>\n",
    "There is a deep learning API within Tensorflow called Keras which will be used in this notebook. It is a fast powerful deep learning which enables fast experimentation. The API is simple in use although is complex in how it works, flexible and powerful enough to provide performnace and strength to industrie shigh standards https://keras.io/about/.\n",
    "<br>\n",
    "<br>\n",
    "### Time Series Anomaly Detection\n",
    "An anomaly is \"something that deviates from what is standard, normal, or expected\" https://www.merriam-webster.com/dictionary/anomaly. Anomalies within a time series dataset are the peaks/spikes or drops/troughs within the data, so we can say that anomaly detection is the process of highlighitng these anomalies in the dataset https://www.section.io/engineering-education/anomaly-detection-model-on-time-series-data-using-isolation-forest/#:~:text=Anomalies%20are%20spikes%20or%20drops,train%20a%20time%20series%20model. When forecasting on a dataset it is thses anomalies within the dataset that can cause issues or skew results when running forecasts on the data. <br>\n",
    "\n",
    "It is important to understand what a tensor is as it will be one of the main types of data used in this notebook. A tensor is just like a data container with a certain number of dimensions which enables us to describe the mathematical relationship between these different tensors. Tensors also include descriptions of the valid linear transformations between tensors https://www.kdnuggets.com/2018/05/wtf-tensor.html. The tensor is often referred to as the matrice of N-dimensional space https://www.kdnuggets.com/2018/05/wtf-tensor.html.\n",
    "<br> \n",
    "![SNOWFALL](images/scalar-vector-matrix-tensor.png)\n",
    "<br> \n",
    "https://hadrienj.github.io/posts/Deep-Learning-Book-Series-2.1-Scalars-Vectors-Matrices-and-Tensors/\n",
    "<br> \n",
    "When it comes to neural networks and machine learning these tensors can represent the transformation of the input data which will then enable to get our desired output data for this purpose. \n",
    "<br>\n",
    "<br>\n",
    "### Machine Learning\n",
    "Background to machine learning.. research\n",
    "<br>\n",
    "<br>\n",
    "### Neural Networks\n",
    "Background..\n",
    "\n",
    "\n",
    "\n",
    "\n",
    "<hr style=\"border-top: 1px solid #001a79;\" />\n",
    "\n",
    "## The Dataset\n",
    "As per the the documentation on the Keras website at https://keras.io/examples/timeseries/timeseries_anomaly_detection/ we will use the Numenta Anomaly Benchmark (NAB) dataset for the purpose of this analysis. One dataset will be used initially to train the model and then a second dataset will be used to evaluate and test our model, these datasets are the art_daily_small_noise.csv file and the art_daily_jumpsup.csv file respectively. It is a univariate time series dataset, meaning it consists of a single value and an associated time. \n",
    "\n",
    "The Numenta Anomaly Benchmark (NAB) is a unique gauge for evaluating algorithms for anomaly detection in for use in applications. There are over 50 labeled real-world and artificial timeseries data files plus a novel scoring mechanism designed for real-time applications. The data is all open-source and has a lot documentation to go with and has another link to a github page which hosts information on a scoreboard of anomaly detection algorithms. This can be accessed at the following link github.com/numenta/NAB. This repository provides in-depth detail on evaluation of anomaly detection algorithsm with the Numenta Anomaly Benchmark.\n",
    "\n",
    "Both datasets used in this notebook have been generated artificially, one with anomalies and one without anomalies. It is time series data and has two variables the timestamp and the value for that point in time. We have a value for every 5 mins over a 14 day period.\n",
    " \n",
    "<br>\n",
    "<br>\n",
    "<br>\n",
    "<br>\n",
    "<br>\n",
    "<br>\n",
    "<br>\n",
    " <br>"
   ]
  },
  {
   "cell_type": "code",
   "execution_count": 1,
   "id": "2bf552fd-d8e4-4226-b3f2-a6587e03ff14",
   "metadata": {},
   "outputs": [],
   "source": [
    "# Numerical arrays.\n",
    "import numpy as np\n",
    "\n",
    "# Spreadsheet-like Data Frames.\n",
    "import pandas as pd\n",
    "\n",
    "# Neural networks.\n",
    "import tensorflow.keras as keras\n",
    "\n",
    "#Layers of Neural Networks\n",
    "from tensorflow.keras import layers \n",
    "\n",
    "# Plotting\n",
    "import matplotlib.pyplot as plt"
   ]
  },
  {
   "cell_type": "markdown",
   "id": "39ac80f4",
   "metadata": {},
   "source": [
    "<hr style=\"border-top: 1px solid #001a79;\" />\n",
    "\n",
    "### Loading the Data\n",
    "Accessing the data and then loading it for use in the notebook. \n",
    "\n",
    "<hr style=\"border-top: 1px solid #001a79;\" />\n",
    "\n",
    "I will bring in the datasets which I discussed above previously. \n",
    "\n",
    "Below is the url to access both the csv files online and full link to bring in both the datasets I will use in this notebook. \n",
    "\n",
    "\n"
   ]
  },
  {
   "cell_type": "code",
   "execution_count": 2,
   "id": "a4fdb3ce-981c-4bee-9ec1-4af9accb78ab",
   "metadata": {},
   "outputs": [],
   "source": [
    "# Root of URLs.\n",
    "root_url = 'https://raw.githubusercontent.com/numenta/NAB/master/data/'\n",
    "\n",
    "# Data file without anomaly.\n",
    "no_anomaly_url = root_url + 'artificialNoAnomaly/art_daily_small_noise.csv'\n",
    "\n",
    "# Data file with anomaly.\n",
    "with_anomaly_url = root_url + 'artificialWithAnomaly/art_daily_jumpsup.csv'"
   ]
  },
  {
   "cell_type": "markdown",
   "id": "43188ebd",
   "metadata": {},
   "source": [
    "<hr style=\"border-top: 1px solid #001a79;\" />\n",
    "\n",
    "### Exploring the Data\n",
    "\n",
    "<hr style=\"border-top: 1px solid #001a79;\" />\n"
   ]
  },
  {
   "cell_type": "code",
   "execution_count": 3,
   "id": "2ff9a011-8cc9-4f2b-8ad8-4a35aa82fa32",
   "metadata": {},
   "outputs": [],
   "source": [
    "# creating dataframe with no anomaly data\n",
    "df_small_noise = pd.read_csv(no_anomaly_url, parse_dates=True, index_col=\"timestamp\")"
   ]
  },
  {
   "cell_type": "code",
   "execution_count": 4,
   "id": "363e51f8-1613-431d-a5eb-137d771e5220",
   "metadata": {},
   "outputs": [
    {
     "data": {
      "text/html": [
       "<div>\n",
       "<style scoped>\n",
       "    .dataframe tbody tr th:only-of-type {\n",
       "        vertical-align: middle;\n",
       "    }\n",
       "\n",
       "    .dataframe tbody tr th {\n",
       "        vertical-align: top;\n",
       "    }\n",
       "\n",
       "    .dataframe thead th {\n",
       "        text-align: right;\n",
       "    }\n",
       "</style>\n",
       "<table border=\"1\" class=\"dataframe\">\n",
       "  <thead>\n",
       "    <tr style=\"text-align: right;\">\n",
       "      <th></th>\n",
       "      <th>value</th>\n",
       "    </tr>\n",
       "    <tr>\n",
       "      <th>timestamp</th>\n",
       "      <th></th>\n",
       "    </tr>\n",
       "  </thead>\n",
       "  <tbody>\n",
       "    <tr>\n",
       "      <th>2014-04-01 00:00:00</th>\n",
       "      <td>18.324919</td>\n",
       "    </tr>\n",
       "    <tr>\n",
       "      <th>2014-04-01 00:05:00</th>\n",
       "      <td>21.970327</td>\n",
       "    </tr>\n",
       "    <tr>\n",
       "      <th>2014-04-01 00:10:00</th>\n",
       "      <td>18.624806</td>\n",
       "    </tr>\n",
       "    <tr>\n",
       "      <th>2014-04-01 00:15:00</th>\n",
       "      <td>21.953684</td>\n",
       "    </tr>\n",
       "    <tr>\n",
       "      <th>2014-04-01 00:20:00</th>\n",
       "      <td>21.909120</td>\n",
       "    </tr>\n",
       "  </tbody>\n",
       "</table>\n",
       "</div>"
      ],
      "text/plain": [
       "                         value\n",
       "timestamp                     \n",
       "2014-04-01 00:00:00  18.324919\n",
       "2014-04-01 00:05:00  21.970327\n",
       "2014-04-01 00:10:00  18.624806\n",
       "2014-04-01 00:15:00  21.953684\n",
       "2014-04-01 00:20:00  21.909120"
      ]
     },
     "execution_count": 4,
     "metadata": {},
     "output_type": "execute_result"
    }
   ],
   "source": [
    "# quick look at data\n",
    "df_small_noise.head()"
   ]
  },
  {
   "cell_type": "code",
   "execution_count": 5,
   "id": "c397ab4f-8645-4880-abc5-4c70cebff9e7",
   "metadata": {},
   "outputs": [
    {
     "data": {
      "text/html": [
       "<div>\n",
       "<style scoped>\n",
       "    .dataframe tbody tr th:only-of-type {\n",
       "        vertical-align: middle;\n",
       "    }\n",
       "\n",
       "    .dataframe tbody tr th {\n",
       "        vertical-align: top;\n",
       "    }\n",
       "\n",
       "    .dataframe thead th {\n",
       "        text-align: right;\n",
       "    }\n",
       "</style>\n",
       "<table border=\"1\" class=\"dataframe\">\n",
       "  <thead>\n",
       "    <tr style=\"text-align: right;\">\n",
       "      <th></th>\n",
       "      <th>value</th>\n",
       "    </tr>\n",
       "  </thead>\n",
       "  <tbody>\n",
       "    <tr>\n",
       "      <th>count</th>\n",
       "      <td>4032.000000</td>\n",
       "    </tr>\n",
       "    <tr>\n",
       "      <th>mean</th>\n",
       "      <td>42.438353</td>\n",
       "    </tr>\n",
       "    <tr>\n",
       "      <th>std</th>\n",
       "      <td>28.077122</td>\n",
       "    </tr>\n",
       "    <tr>\n",
       "      <th>min</th>\n",
       "      <td>18.000964</td>\n",
       "    </tr>\n",
       "    <tr>\n",
       "      <th>25%</th>\n",
       "      <td>19.841390</td>\n",
       "    </tr>\n",
       "    <tr>\n",
       "      <th>50%</th>\n",
       "      <td>21.608487</td>\n",
       "    </tr>\n",
       "    <tr>\n",
       "      <th>75%</th>\n",
       "      <td>75.450282</td>\n",
       "    </tr>\n",
       "    <tr>\n",
       "      <th>max</th>\n",
       "      <td>87.976128</td>\n",
       "    </tr>\n",
       "  </tbody>\n",
       "</table>\n",
       "</div>"
      ],
      "text/plain": [
       "             value\n",
       "count  4032.000000\n",
       "mean     42.438353\n",
       "std      28.077122\n",
       "min      18.000964\n",
       "25%      19.841390\n",
       "50%      21.608487\n",
       "75%      75.450282\n",
       "max      87.976128"
      ]
     },
     "execution_count": 5,
     "metadata": {},
     "output_type": "execute_result"
    }
   ],
   "source": [
    "# exploring the data\n",
    "df_small_noise.describe()"
   ]
  },
  {
   "cell_type": "code",
   "execution_count": 6,
   "id": "dc2d7e74-acbc-4a4a-8dbb-61f72bb38e61",
   "metadata": {},
   "outputs": [
    {
     "data": {
      "text/plain": [
       "value    18.324919\n",
       "Name: 2014-04-01 00:00:00, dtype: float64"
      ]
     },
     "execution_count": 6,
     "metadata": {},
     "output_type": "execute_result"
    }
   ],
   "source": [
    "# looking at first row\n",
    "df_small_noise.iloc[0]"
   ]
  },
  {
   "cell_type": "code",
   "execution_count": 7,
   "id": "f2864ddb-de0c-46d0-affe-f4ed5120e246",
   "metadata": {},
   "outputs": [
    {
     "data": {
      "text/plain": [
       "18.3249185392"
      ]
     },
     "execution_count": 7,
     "metadata": {},
     "output_type": "execute_result"
    }
   ],
   "source": [
    "# first value\n",
    "df_small_noise.iloc[0]['value']"
   ]
  },
  {
   "cell_type": "code",
   "execution_count": 8,
   "id": "9e353c25",
   "metadata": {},
   "outputs": [
    {
     "data": {
      "text/plain": [
       "18.3249185392"
      ]
     },
     "execution_count": 8,
     "metadata": {},
     "output_type": "execute_result"
    }
   ],
   "source": [
    "# first value\n",
    "df_small_noise.iloc[0].values[0]"
   ]
  },
  {
   "cell_type": "markdown",
   "id": "ef0ddfff",
   "metadata": {},
   "source": [
    "#### Visualize the data\n",
    "Looking at the time series data that is without anomalies.<br>\n",
    "Thsi is the data that will be used in order to train the model, the reason why we used the data with no anmolaies to train the model is we will be able to fit a model where there is no abormalities in the data then it will be trained on data to ahve no spikes or drops in it. So when it comes to running the model on data that has anomalies, it has the abilities to identify where these spikes or drops ahve occured. "
   ]
  },
  {
   "cell_type": "code",
   "execution_count": 9,
   "id": "27e9741a",
   "metadata": {},
   "outputs": [
    {
     "data": {
      "image/png": "[encoded data removed]",
      "text/plain": [
       "<Figure size 720x288 with 1 Axes>"
      ]
     },
     "metadata": {
      "needs_background": "light"
     },
     "output_type": "display_data"
    }
   ],
   "source": [
    "# defining axes\n",
    "fig, ax = plt.subplots(figsize=(10,4))\n",
    "\n",
    "# Use pandas to plot data frame.\n",
    "df_small_noise.plot(legend=False, ax=ax);"
   ]
  },
  {
   "cell_type": "markdown",
   "id": "8412ff68",
   "metadata": {},
   "source": [
    "Timeseries data with anomalies\n",
    "We will use the following data for testing and see if the sudden jump up in the data is detected as an anomaly."
   ]
  },
  {
   "cell_type": "code",
   "execution_count": 10,
   "id": "341efe42",
   "metadata": {},
   "outputs": [],
   "source": [
    "# creating dataframe with anomaly data, setting the timestamp as teh index column\n",
    "df_daily_jumpsup = pd.read_csv(with_anomaly_url, parse_dates=True, index_col=\"timestamp\")"
   ]
  },
  {
   "cell_type": "code",
   "execution_count": 11,
   "id": "b3ef23e4",
   "metadata": {},
   "outputs": [
    {
     "data": {
      "text/html": [
       "<div>\n",
       "<style scoped>\n",
       "    .dataframe tbody tr th:only-of-type {\n",
       "        vertical-align: middle;\n",
       "    }\n",
       "\n",
       "    .dataframe tbody tr th {\n",
       "        vertical-align: top;\n",
       "    }\n",
       "\n",
       "    .dataframe thead th {\n",
       "        text-align: right;\n",
       "    }\n",
       "</style>\n",
       "<table border=\"1\" class=\"dataframe\">\n",
       "  <thead>\n",
       "    <tr style=\"text-align: right;\">\n",
       "      <th></th>\n",
       "      <th>value</th>\n",
       "    </tr>\n",
       "    <tr>\n",
       "      <th>timestamp</th>\n",
       "      <th></th>\n",
       "    </tr>\n",
       "  </thead>\n",
       "  <tbody>\n",
       "    <tr>\n",
       "      <th>2014-04-01 00:00:00</th>\n",
       "      <td>19.761252</td>\n",
       "    </tr>\n",
       "    <tr>\n",
       "      <th>2014-04-01 00:05:00</th>\n",
       "      <td>20.500833</td>\n",
       "    </tr>\n",
       "    <tr>\n",
       "      <th>2014-04-01 00:10:00</th>\n",
       "      <td>19.961641</td>\n",
       "    </tr>\n",
       "    <tr>\n",
       "      <th>2014-04-01 00:15:00</th>\n",
       "      <td>21.490266</td>\n",
       "    </tr>\n",
       "    <tr>\n",
       "      <th>2014-04-01 00:20:00</th>\n",
       "      <td>20.187739</td>\n",
       "    </tr>\n",
       "  </tbody>\n",
       "</table>\n",
       "</div>"
      ],
      "text/plain": [
       "                         value\n",
       "timestamp                     \n",
       "2014-04-01 00:00:00  19.761252\n",
       "2014-04-01 00:05:00  20.500833\n",
       "2014-04-01 00:10:00  19.961641\n",
       "2014-04-01 00:15:00  21.490266\n",
       "2014-04-01 00:20:00  20.187739"
      ]
     },
     "execution_count": 11,
     "metadata": {},
     "output_type": "execute_result"
    }
   ],
   "source": [
    "# quick look at data \n",
    "df_daily_jumpsup.head()"
   ]
  },
  {
   "cell_type": "code",
   "execution_count": 12,
   "id": "ce7643c8",
   "metadata": {},
   "outputs": [
    {
     "data": {
      "text/html": [
       "<div>\n",
       "<style scoped>\n",
       "    .dataframe tbody tr th:only-of-type {\n",
       "        vertical-align: middle;\n",
       "    }\n",
       "\n",
       "    .dataframe tbody tr th {\n",
       "        vertical-align: top;\n",
       "    }\n",
       "\n",
       "    .dataframe thead th {\n",
       "        text-align: right;\n",
       "    }\n",
       "</style>\n",
       "<table border=\"1\" class=\"dataframe\">\n",
       "  <thead>\n",
       "    <tr style=\"text-align: right;\">\n",
       "      <th></th>\n",
       "      <th>value</th>\n",
       "    </tr>\n",
       "  </thead>\n",
       "  <tbody>\n",
       "    <tr>\n",
       "      <th>count</th>\n",
       "      <td>4032.000000</td>\n",
       "    </tr>\n",
       "    <tr>\n",
       "      <th>mean</th>\n",
       "      <td>44.494254</td>\n",
       "    </tr>\n",
       "    <tr>\n",
       "      <th>std</th>\n",
       "      <td>32.432473</td>\n",
       "    </tr>\n",
       "    <tr>\n",
       "      <th>min</th>\n",
       "      <td>18.001010</td>\n",
       "    </tr>\n",
       "    <tr>\n",
       "      <th>25%</th>\n",
       "      <td>19.991382</td>\n",
       "    </tr>\n",
       "    <tr>\n",
       "      <th>50%</th>\n",
       "      <td>21.648503</td>\n",
       "    </tr>\n",
       "    <tr>\n",
       "      <th>75%</th>\n",
       "      <td>76.435943</td>\n",
       "    </tr>\n",
       "    <tr>\n",
       "      <th>max</th>\n",
       "      <td>164.947481</td>\n",
       "    </tr>\n",
       "  </tbody>\n",
       "</table>\n",
       "</div>"
      ],
      "text/plain": [
       "             value\n",
       "count  4032.000000\n",
       "mean     44.494254\n",
       "std      32.432473\n",
       "min      18.001010\n",
       "25%      19.991382\n",
       "50%      21.648503\n",
       "75%      76.435943\n",
       "max     164.947481"
      ]
     },
     "execution_count": 12,
     "metadata": {},
     "output_type": "execute_result"
    }
   ],
   "source": [
    "# exploring data quickly\n",
    "df_daily_jumpsup.describe()"
   ]
  },
  {
   "cell_type": "code",
   "execution_count": 13,
   "id": "ac7dec3f",
   "metadata": {},
   "outputs": [
    {
     "data": {
      "text/plain": [
       "19.761251903"
      ]
     },
     "execution_count": 13,
     "metadata": {},
     "output_type": "execute_result"
    }
   ],
   "source": [
    "# first value\n",
    "df_daily_jumpsup.iloc[0]['value']"
   ]
  },
  {
   "cell_type": "code",
   "execution_count": 14,
   "id": "cf7c8014",
   "metadata": {},
   "outputs": [
    {
     "data": {
      "image/png": "[encoded data removed]",
      "text/plain": [
       "<Figure size 720x288 with 1 Axes>"
      ]
     },
     "metadata": {
      "needs_background": "light"
     },
     "output_type": "display_data"
    }
   ],
   "source": [
    "# defining axes\n",
    "fig, ax = plt.subplots(figsize=(10,4))\n",
    "\n",
    "# Use pandas to plot data frame.\n",
    "df_daily_jumpsup.plot(legend=False, ax=ax);"
   ]
  },
  {
   "cell_type": "markdown",
   "id": "5d6640c1",
   "metadata": {},
   "source": [
    "<hr style=\"border-top: 1px solid #001a79;\" />\n",
    "\n",
    "### Pre-processing\n",
    "\n",
    "<hr style=\"border-top: 1px solid #001a79;\" />\n",
    "\n",
    "Pre-pocessing is required in order to prepare the data to be inserted into the neural network. I will first carry out some pre-processing task on the data in order to prepare the data for this analysis. This is essentially a data cleansing and processing technique used on data before we carry out machine learning techniques on the data. Most common techniques used in this area are standardising the data values or normalising the data values. Another way is by transsofmring the data. \n",
    "\n",
    "#### Normalising the data\n",
    "We will first look at whether we should standardise or normalise the data values. In order to see which route we take we need to plot the data, having plotted the data above previous we have already carried out this part of the process. \n",
    "\n",
    "The distribution of this data will dictate whether to normalise or standardise the data https://becominghuman.ai/what-does-feature-scaling-mean-when-to-normalize-data-and-when-to-standardize-data-c3de654405ed. If the data follows a Gaussian distribution, which is bell-curved data when plotted then you would satndardise the data. As the data does not follow this distribution we need to normalise the data. \n",
    "\n",
    "Normalising the data involves scaling the data, in order to achieve this we will get the mean and standard of the values and the following formula will give us our normaliused values: \n",
    "\n",
    "$$ Z = {x - \\mu \\over \\sigma} $$\n",
    "\n",
    "I will apply this to the values prior to moving to the next stage of the analysis. "
   ]
  },
  {
   "cell_type": "code",
   "execution_count": 15,
   "id": "2c91ff32",
   "metadata": {},
   "outputs": [
    {
     "data": {
      "text/plain": [
       "value    42.438353\n",
       "dtype: float64"
      ]
     },
     "execution_count": 15,
     "metadata": {},
     "output_type": "execute_result"
    }
   ],
   "source": [
    "# gettign the mean of the values\n",
    "train_mean = df_small_noise.mean()\n",
    "\n",
    "train_mean"
   ]
  },
  {
   "cell_type": "code",
   "execution_count": 16,
   "id": "e187f16d",
   "metadata": {},
   "outputs": [
    {
     "data": {
      "text/plain": [
       "value    28.077122\n",
       "dtype: float64"
      ]
     },
     "execution_count": 16,
     "metadata": {},
     "output_type": "execute_result"
    }
   ],
   "source": [
    "# geting the standard deviation of the values\n",
    "train_std = df_small_noise.std()\n",
    "\n",
    "train_std"
   ]
  },
  {
   "cell_type": "code",
   "execution_count": 17,
   "id": "ae64677b",
   "metadata": {},
   "outputs": [
    {
     "data": {
      "text/html": [
       "<div>\n",
       "<style scoped>\n",
       "    .dataframe tbody tr th:only-of-type {\n",
       "        vertical-align: middle;\n",
       "    }\n",
       "\n",
       "    .dataframe tbody tr th {\n",
       "        vertical-align: top;\n",
       "    }\n",
       "\n",
       "    .dataframe thead th {\n",
       "        text-align: right;\n",
       "    }\n",
       "</style>\n",
       "<table border=\"1\" class=\"dataframe\">\n",
       "  <thead>\n",
       "    <tr style=\"text-align: right;\">\n",
       "      <th></th>\n",
       "      <th>value</th>\n",
       "    </tr>\n",
       "    <tr>\n",
       "      <th>timestamp</th>\n",
       "      <th></th>\n",
       "    </tr>\n",
       "  </thead>\n",
       "  <tbody>\n",
       "    <tr>\n",
       "      <th>2014-04-01 00:00:00</th>\n",
       "      <td>-0.858829</td>\n",
       "    </tr>\n",
       "    <tr>\n",
       "      <th>2014-04-01 00:05:00</th>\n",
       "      <td>-0.728993</td>\n",
       "    </tr>\n",
       "    <tr>\n",
       "      <th>2014-04-01 00:10:00</th>\n",
       "      <td>-0.848148</td>\n",
       "    </tr>\n",
       "    <tr>\n",
       "      <th>2014-04-01 00:15:00</th>\n",
       "      <td>-0.729586</td>\n",
       "    </tr>\n",
       "    <tr>\n",
       "      <th>2014-04-01 00:20:00</th>\n",
       "      <td>-0.731173</td>\n",
       "    </tr>\n",
       "  </tbody>\n",
       "</table>\n",
       "</div>"
      ],
      "text/plain": [
       "                        value\n",
       "timestamp                    \n",
       "2014-04-01 00:00:00 -0.858829\n",
       "2014-04-01 00:05:00 -0.728993\n",
       "2014-04-01 00:10:00 -0.848148\n",
       "2014-04-01 00:15:00 -0.729586\n",
       "2014-04-01 00:20:00 -0.731173"
      ]
     },
     "execution_count": 17,
     "metadata": {},
     "output_type": "execute_result"
    }
   ],
   "source": [
    "# normalising the values \n",
    "df_train_vals = (df_small_noise - train_mean) / train_std\n",
    "\n",
    "# quick look at values outputted\n",
    "df_train_vals.head()"
   ]
  },
  {
   "cell_type": "markdown",
   "id": "38972ef7",
   "metadata": {},
   "source": [
    "With this technique complete we will do a quick check to see the mean is almost zero and that the standard deviation is near 1. "
   ]
  },
  {
   "cell_type": "code",
   "execution_count": 18,
   "id": "d3c522fd",
   "metadata": {},
   "outputs": [
    {
     "data": {
      "text/plain": [
       "-2.616541242931684e-15"
      ]
     },
     "execution_count": 18,
     "metadata": {},
     "output_type": "execute_result"
    }
   ],
   "source": [
    "# check mean\n",
    "df_train_vals['value'].mean()"
   ]
  },
  {
   "cell_type": "code",
   "execution_count": 19,
   "id": "796c884d",
   "metadata": {},
   "outputs": [
    {
     "data": {
      "text/plain": [
       "1.0000000000000018"
      ]
     },
     "execution_count": 19,
     "metadata": {},
     "output_type": "execute_result"
    }
   ],
   "source": [
    "# check standard deviation\n",
    "df_train_vals['value'].std()"
   ]
  },
  {
   "cell_type": "code",
   "execution_count": 20,
   "id": "a238f93d",
   "metadata": {},
   "outputs": [
    {
     "data": {
      "image/png": "[encoded data removed]",
      "text/plain": [
       "<Figure size 720x288 with 1 Axes>"
      ]
     },
     "metadata": {
      "needs_background": "light"
     },
     "output_type": "display_data"
    }
   ],
   "source": [
    "# defining our plot\n",
    "fig, ax = plt.subplots(figsize=(10,4))\n",
    "\n",
    "# Use pandas to plot data frame.\n",
    "df_train_vals.plot(legend=False, ax=ax);"
   ]
  },
  {
   "cell_type": "markdown",
   "id": "5b71e4f1",
   "metadata": {},
   "source": [
    "#### Transforming the data\n",
    "In this section we will look at ways to tarnsform the data, in the notebook they use the method of windows in order to do this or as they refer to 'time steps'. This involves paritioning the data into different subsections in order top slide the window along the data to predict the next section of the data. The method of utilising previous time steps to forecast the next time step in the series https://machinelearningmastery.com/time-series-forecasting-supervised-learning/#:~:text=The%20use%20of%20prior%20time,or%20size%20of%20the%20lag. . "
   ]
  },
  {
   "cell_type": "code",
   "execution_count": 21,
   "id": "2eaddc69",
   "metadata": {},
   "outputs": [
    {
     "data": {
      "text/plain": [
       "(4032, 1)"
      ]
     },
     "execution_count": 21,
     "metadata": {},
     "output_type": "execute_result"
    }
   ],
   "source": [
    "# Looking at dataset shape, number of values, 4032 rows in dataset\n",
    "df_train_vals.shape"
   ]
  },
  {
   "cell_type": "markdown",
   "id": "9b15bec7-f9fc-4c56-8c42-543592328482",
   "metadata": {},
   "source": [
    "The terminology of using of 'time steps' is used in the website, but it can be called windows or sub-sections too. To epxlain this method, we effectively slide across the data looking at the datantained in that window at any one time. \n",
    "\n",
    "![SNOWFALL](images/window.png)\n",
    "https://www.semanticscholar.org/paper/Time-Series-Data-Prediction-Using-Sliding-Window-Hota-Handa/91037f01fd4b845eadca0b53f5dc00d9f61ac493\n",
    "\n",
    "I will explain by looking at a list of numbers L below. I want to create subsections or windows of that data of size three. This window will slide across the data breaking our list into groups of three numbers which are side by side. "
   ]
  },
  {
   "cell_type": "code",
   "execution_count": 22,
   "id": "38ea2ca0",
   "metadata": {},
   "outputs": [
    {
     "data": {
      "text/plain": [
       "12"
      ]
     },
     "execution_count": 22,
     "metadata": {},
     "output_type": "execute_result"
    }
   ],
   "source": [
    "# Window list example.\n",
    "L = [1, 1, 2, 4, 5, 6, 7, 1, 2, 3, 4, 5]\n",
    "# Example window size.\n",
    "win_size = 3\n",
    "# Length of L.\n",
    "len(L)"
   ]
  },
  {
   "cell_type": "markdown",
   "id": "e006a78e-c237-4d18-b82c-57f144a672a1",
   "metadata": {},
   "source": [
    "Number of windows achievable in the dataset is calculated below."
   ]
  },
  {
   "cell_type": "code",
   "execution_count": 24,
   "id": "25956fdc",
   "metadata": {},
   "outputs": [
    {
     "data": {
      "text/plain": [
       "10"
      ]
     },
     "execution_count": 24,
     "metadata": {},
     "output_type": "execute_result"
    }
   ],
   "source": [
    "# Number of windows achievable\n",
    "len(L) - win_size + 1"
   ]
  },
  {
   "cell_type": "code",
   "execution_count": 26,
   "id": "9939bd38",
   "metadata": {},
   "outputs": [
    {
     "data": {
      "text/plain": [
       "[[1, 1, 2],\n",
       " [1, 2, 4],\n",
       " [2, 4, 5],\n",
       " [4, 5, 6],\n",
       " [5, 6, 7],\n",
       " [6, 7, 1],\n",
       " [7, 1, 2],\n",
       " [1, 2, 3],\n",
       " [2, 3, 4],\n",
       " [3, 4, 5]]"
      ]
     },
     "execution_count": 26,
     "metadata": {},
     "output_type": "execute_result"
    }
   ],
   "source": [
    "# For accumulating the windows.\n",
    "wins = []\n",
    "\n",
    "# Generate the windows\n",
    "for i in range(len(L) - win_size + 1):\n",
    "    wins.append(L[i:i + win_size])\n",
    "\n",
    "#Print the windows for example\n",
    "wins"
   ]
  },
  {
   "cell_type": "code",
   "execution_count": 27,
   "id": "c90eddec",
   "metadata": {},
   "outputs": [
    {
     "data": {
      "text/plain": [
       "array([[1, 1, 2],\n",
       "       [1, 2, 4],\n",
       "       [2, 4, 5],\n",
       "       [4, 5, 6],\n",
       "       [5, 6, 7],\n",
       "       [6, 7, 1],\n",
       "       [7, 1, 2],\n",
       "       [1, 2, 3],\n",
       "       [2, 3, 4],\n",
       "       [3, 4, 5]])"
      ]
     },
     "execution_count": 27,
     "metadata": {},
     "output_type": "execute_result"
    }
   ],
   "source": [
    "# Create a 2D numpy array from wins.\n",
    "np.stack(wins)"
   ]
  },
  {
   "cell_type": "markdown",
   "id": "7e7bf13d-6801-4e46-917f-1b2f96775033",
   "metadata": {},
   "source": [
    "I will now look at applying this very same logic to our time series data. "
   ]
  },
  {
   "cell_type": "code",
   "execution_count": 28,
   "id": "8c86ec87",
   "metadata": {
    "tags": []
   },
   "outputs": [],
   "source": [
    "# number of time steps in the data or window size\n",
    "window_size = 288"
   ]
  },
  {
   "cell_type": "code",
   "execution_count": 29,
   "id": "2368041a",
   "metadata": {},
   "outputs": [],
   "source": [
    "# defining windows formula\n",
    "def windows(vals, N=window_size):\n",
    "  # set L to be an empty list\n",
    "  L = []\n",
    "  # loop through data\n",
    "  for i in range(len(vals) - N + 1):\n",
    "    # append winodw to the list\n",
    "    L.append(vals[i:i+N])\n",
    "  # stack() is used to stack our windows on top of one another\n",
    "  return np.stack(L)"
   ]
  },
  {
   "cell_type": "code",
   "execution_count": 30,
   "id": "3a109cc0",
   "metadata": {},
   "outputs": [
    {
     "data": {
      "text/plain": [
       "(array([-0.85882857]), array([-0.8460886]))"
      ]
     },
     "execution_count": 30,
     "metadata": {},
     "output_type": "execute_result"
    }
   ],
   "source": [
    "# create windows from df_train_vals data\n",
    "x_train = windows(df_train_vals)\n",
    "# print first value in first window and last value last window\n",
    "x_train[0][0], x_train[-1][-1]"
   ]
  },
  {
   "cell_type": "code",
   "execution_count": 31,
   "id": "1b8abede",
   "metadata": {},
   "outputs": [
    {
     "data": {
      "text/plain": [
       "(value   -0.858829\n",
       " Name: 2014-04-01 00:00:00, dtype: float64,\n",
       " value   -0.846089\n",
       " Name: 2014-04-14 23:55:00, dtype: float64)"
      ]
     },
     "execution_count": 31,
     "metadata": {},
     "output_type": "execute_result"
    }
   ],
   "source": [
    "# check against first and last value in initial values\n",
    "df_train_vals.iloc[0], df_train_vals.iloc[-1]"
   ]
  },
  {
   "cell_type": "code",
   "execution_count": 32,
   "id": "c5465d36-98f9-4d86-9216-5e53f489bc7b",
   "metadata": {},
   "outputs": [
    {
     "data": {
      "text/plain": [
       "array([[[-0.85882857],\n",
       "        [-0.72899302],\n",
       "        [-0.84814772],\n",
       "        ...,\n",
       "        [-0.86453747],\n",
       "        [-0.81250829],\n",
       "        [-0.79671155]],\n",
       "\n",
       "       [[-0.72899302],\n",
       "        [-0.84814772],\n",
       "        [-0.72958579],\n",
       "        ...,\n",
       "        [-0.81250829],\n",
       "        [-0.79671155],\n",
       "        [-0.78767946]],\n",
       "\n",
       "       [[-0.84814772],\n",
       "        [-0.72958579],\n",
       "        [-0.731173  ],\n",
       "        ...,\n",
       "        [-0.79671155],\n",
       "        [-0.78767946],\n",
       "        [-0.73706287]],\n",
       "\n",
       "       ...,\n",
       "\n",
       "       [[-0.8226548 ],\n",
       "        [-0.86660975],\n",
       "        [-0.82181363],\n",
       "        ...,\n",
       "        [-0.79164661],\n",
       "        [-0.78025492],\n",
       "        [-0.83364049]],\n",
       "\n",
       "       [[-0.86660975],\n",
       "        [-0.82181363],\n",
       "        [-0.75595835],\n",
       "        ...,\n",
       "        [-0.78025492],\n",
       "        [-0.83364049],\n",
       "        [-0.73510213]],\n",
       "\n",
       "       [[-0.82181363],\n",
       "        [-0.75595835],\n",
       "        [-0.74256753],\n",
       "        ...,\n",
       "        [-0.83364049],\n",
       "        [-0.73510213],\n",
       "        [-0.8460886 ]]])"
      ]
     },
     "execution_count": 32,
     "metadata": {},
     "output_type": "execute_result"
    }
   ],
   "source": [
    "x_train"
   ]
  },
  {
   "cell_type": "code",
   "execution_count": 33,
   "id": "e09e156a",
   "metadata": {},
   "outputs": [
    {
     "data": {
      "text/plain": [
       "(3745, 288, 1)"
      ]
     },
     "execution_count": 33,
     "metadata": {},
     "output_type": "execute_result"
    }
   ],
   "source": [
    "# shape of data made up of 288 windows of 3745 training examples\n",
    "x_train.shape"
   ]
  },
  {
   "cell_type": "markdown",
   "id": "28849c4c-9eea-4fbd-9d92-d64f148b13de",
   "metadata": {},
   "source": [
    "We now have slid the window across these values and ended up with 3,745 windows with 288 values in each window. "
   ]
  },
  {
   "cell_type": "code",
   "execution_count": 34,
   "id": "cccd0fe0",
   "metadata": {},
   "outputs": [
    {
     "data": {
      "text/plain": [
       "array([-0.85882857, -0.72899302, -0.84814772, ..., -0.83364049,\n",
       "       -0.73510213, -0.8460886 ])"
      ]
     },
     "execution_count": 34,
     "metadata": {},
     "output_type": "execute_result"
    }
   ],
   "source": [
    "# array vof values\n",
    "df_train_vals['value'].values"
   ]
  },
  {
   "cell_type": "code",
   "execution_count": 35,
   "id": "6159d498",
   "metadata": {},
   "outputs": [
    {
     "data": {
      "text/plain": [
       "array([-0.85882857, -0.72899302, -0.84814772, -0.72958579, -0.731173  ,\n",
       "       -0.75730984, -0.77645641, -0.7880838 , -0.747012  , -0.829166  ,\n",
       "       -0.80377285, -0.7821597 , -0.81182078, -0.80949918, -0.82334701,\n",
       "       -0.79001779, -0.74922405, -0.84169024, -0.73727717, -0.77223023,\n",
       "       -0.75311352, -0.79116337, -0.75934728, -0.86809294, -0.75381057,\n",
       "       -0.86468256, -0.74361965, -0.72908121, -0.82850668, -0.84043795,\n",
       "       -0.76136364, -0.8343536 , -0.74708881, -0.85574949, -0.85245676,\n",
       "       -0.73090636, -0.77440264, -0.74974936, -0.82419543, -0.77402585,\n",
       "       -0.78574242, -0.7844733 , -0.77316412, -0.78843253, -0.80927467,\n",
       "       -0.83109167, -0.76090519, -0.83816509, -0.77176485, -0.83715923,\n",
       "       -0.78131343, -0.76396862, -0.83924191, -0.86186112, -0.85174179,\n",
       "       -0.78406773, -0.74938477, -0.86399047, -0.76581026, -0.82177506,\n",
       "       -0.80222751, -0.73807119, -0.82310669, -0.80410682, -0.86845167,\n",
       "       -0.85877599, -0.83356075, -0.86643297, -0.78045221, -0.8096542 ,\n",
       "       -0.79230956, -0.84551986, -0.82824105, -0.77582935, -0.73287933,\n",
       "       -0.86321832, -0.74355256, -0.7882157 , -0.79006227, -0.79912888,\n",
       "       -0.86051472, -0.85759665, -0.78479216, -0.82182635, -0.73972257,\n",
       "       -0.81247611, -0.84998837, -0.76857869, -0.82860841, -0.79553994,\n",
       "       -0.77098436, -0.74214503, -0.75754161, -0.77404332, -0.77357716,\n",
       "       -0.73564002, -0.82825643, -0.8702425 , -0.83165699, -0.83935909,\n",
       "       -0.77611284, -0.78011937, -0.78585361, -0.86808681, -0.76657575,\n",
       "       -0.82430925, -0.7756539 , -0.79110813,  0.83423034,  0.73340436,\n",
       "        0.71395293,  1.07098925,  1.11307181,  0.98296271,  0.71831972,\n",
       "        0.86295228,  1.02130195,  1.04594803,  0.72548104,  0.66823317,\n",
       "        1.36958529,  1.17305538,  1.11661005,  0.98307138,  1.27459976,\n",
       "        1.44642694,  1.50528567,  1.28866513,  1.26031743,  1.02295817,\n",
       "        1.27933882,  1.18598059,  1.3813925 ,  1.25767699,  1.1736019 ,\n",
       "        1.09127902,  1.21586925,  1.09223039,  1.13768838,  1.59675342,\n",
       "        1.28904484,  1.33876025,  1.53233922,  1.60141677,  1.38146244,\n",
       "        1.51223576,  1.23588256,  1.22381772,  1.2790048 ,  1.43257027,\n",
       "        1.43808241,  1.22922231,  1.12561563,  1.40974009,  1.12283575,\n",
       "        1.37905941,  1.44731563,  1.45141157,  1.48152744,  1.54954504,\n",
       "        1.33709539,  1.46829683,  1.4050141 ,  1.15859057,  1.06689361,\n",
       "        1.21436719,  1.30466379,  1.40383661,  1.53708371,  1.16457702,\n",
       "        1.12429225,  1.60177134,  1.11431721,  1.32540935,  1.38642273,\n",
       "        1.36124227,  1.10177385,  1.08524575,  1.1128578 ,  1.38643638,\n",
       "        1.36304532,  1.18604649,  1.41628631,  1.52016681,  1.07654239,\n",
       "        1.33670957,  1.44565443,  1.19662931,  1.22823281,  1.40253218,\n",
       "        1.56454005,  1.51438674,  1.38516952,  1.46899077,  1.26076513,\n",
       "        1.41812743,  1.31852542,  1.16110478,  1.45275926,  1.36997393,\n",
       "        1.25723151,  1.57220199,  1.06479764,  1.23281399,  1.08528647,\n",
       "        1.48968441,  1.45297419,  1.24169607,  1.43790453,  1.2785004 ,\n",
       "        1.48382995,  1.31169265,  1.28781332,  1.58553613,  1.19583776,\n",
       "        1.12151008, -0.35250349, -0.26479567, -0.39962031, -0.47160544,\n",
       "       -0.40840388, -0.37042247, -0.44883702, -0.33573617, -0.25831579,\n",
       "       -0.38277522, -0.40488824, -0.39440839, -0.77509723, -0.65253443,\n",
       "       -0.72728022, -0.73167631, -0.6882095 , -0.72293893, -0.69003755,\n",
       "       -0.78366561, -0.6636319 , -0.64340272, -0.68995268, -0.64115899,\n",
       "       -0.83292321, -0.78536741, -0.76722084, -0.77014874, -0.79644794,\n",
       "       -0.80569367, -0.83651316, -0.79786583, -0.83128515, -0.74788262,\n",
       "       -0.82454968, -0.84647101, -0.78825327, -0.78211741, -0.74251058,\n",
       "       -0.7847296 , -0.8178686 , -0.75237369, -0.78998354, -0.85597483,\n",
       "       -0.78632299, -0.73734213, -0.81059211, -0.82490508, -0.84932652,\n",
       "       -0.84818912, -0.80807162, -0.78484064, -0.8582896 , -0.73580158,\n",
       "       -0.76210229, -0.78613203, -0.75164888, -0.85835073, -0.80178754,\n",
       "       -0.77993325, -0.75220135, -0.75863962, -0.83079766, -0.73620985,\n",
       "       -0.85255954, -0.74557822, -0.73192653, -0.84503486, -0.76738913,\n",
       "       -0.86453747, -0.81250829, -0.79671155])"
      ]
     },
     "execution_count": 35,
     "metadata": {},
     "output_type": "execute_result"
    }
   ],
   "source": [
    "# first window in training data flattened\n",
    "x_train[0].flatten()"
   ]
  },
  {
   "cell_type": "code",
   "execution_count": 36,
   "id": "22bebbe8",
   "metadata": {},
   "outputs": [
    {
     "data": {
      "image/png": "[encoded data removed]",
      "text/plain": [
       "<Figure size 864x432 with 1 Axes>"
      ]
     },
     "metadata": {
      "needs_background": "light"
     },
     "output_type": "display_data"
    }
   ],
   "source": [
    "# picking a window in the data\n",
    "window_no = 200\n",
    "\n",
    "# \n",
    "fig, ax = plt.subplots(figsize=(12, 6))\n",
    "\n",
    "# \n",
    "y = df_train_vals['value'].values\n",
    "\n",
    "# \n",
    "ax.plot(np.arange(y.shape[0]), y, label='signal')\n",
    "\n",
    "# The first window.\n",
    "w = x_train[window_no].flatten()\n",
    "\n",
    "# \n",
    "ax.plot(np.arange(w.shape[0]) + window_no, w, label='window')\n",
    "\n",
    "ax.legend();"
   ]
  },
  {
   "cell_type": "markdown",
   "id": "b628a830",
   "metadata": {},
   "source": [
    "<hr style=\"border-top: 1px solid #001a79;\" />\n",
    "\n",
    "### Neural Network\n",
    "\n",
    "<hr style=\"border-top: 1px solid #001a79;\" />"
   ]
  },
  {
   "cell_type": "code",
   "execution_count": 37,
   "id": "0ec270b8",
   "metadata": {},
   "outputs": [
    {
     "data": {
      "text/plain": [
       "(3745, 288, 1)"
      ]
     },
     "execution_count": 37,
     "metadata": {},
     "output_type": "execute_result"
    }
   ],
   "source": [
    "# mode will take input in the shape of (batch_size, sequence_length, num_features)\n",
    "x_train.shape"
   ]
  },
  {
   "cell_type": "code",
   "execution_count": 38,
   "id": "41371f33",
   "metadata": {},
   "outputs": [
    {
     "name": "stdout",
     "output_type": "stream",
     "text": [
      "Model: \"sequential\"\n",
      "_________________________________________________________________\n",
      " Layer (type)                Output Shape              Param #   \n",
      "=================================================================\n",
      " conv1d (Conv1D)             (None, 144, 32)           256       \n",
      "                                                                 \n",
      " dropout (Dropout)           (None, 144, 32)           0         \n",
      "                                                                 \n",
      " conv1d_1 (Conv1D)           (None, 72, 16)            3600      \n",
      "                                                                 \n",
      " conv1d_transpose (Conv1DTra  (None, 144, 16)          1808      \n",
      " nspose)                                                         \n",
      "                                                                 \n",
      " dropout_1 (Dropout)         (None, 144, 16)           0         \n",
      "                                                                 \n",
      " conv1d_transpose_1 (Conv1DT  (None, 288, 32)          3616      \n",
      " ranspose)                                                       \n",
      "                                                                 \n",
      " conv1d_transpose_2 (Conv1DT  (None, 288, 1)           225       \n",
      " ranspose)                                                       \n",
      "                                                                 \n",
      "=================================================================\n",
      "Total params: 9,505\n",
      "Trainable params: 9,505\n",
      "Non-trainable params: 0\n",
      "_________________________________________________________________\n"
     ]
    }
   ],
   "source": [
    "#\n",
    "layers = [\n",
    "  # brings the initial data into the system for further processing\n",
    "  keras.layers.Input(shape=(x_train.shape[1], x_train.shape[2])),\n",
    "  # apply sliding convolutional filters to 1-D input to help extract needed output, 32 filters\n",
    "  keras.layers.Conv1D(\n",
    "    filters=32, kernel_size=7, padding=\"same\", strides=2, activation=\"relu\"),\n",
    "  # helps with overfitting randomly sets input units to 0 with a frequency of rate at each step during training time\n",
    "  keras.layers.Dropout(rate=0.2),\n",
    "  # apply sliding convolutional filters to 1-D input to help extract needed output, 16 filters\n",
    "  keras.layers.Conv1D(\n",
    "    filters=16, kernel_size=7, padding=\"same\", strides=2, activation=\"relu\"),\n",
    "  # apply sliding convolutional filters tarsnsposed to 1-D input to help extract needed output, 16 filters\n",
    "  keras.layers.Conv1DTranspose(\n",
    "    filters=16, kernel_size=7, padding=\"same\", strides=2, activation=\"relu\"),\n",
    "  #\n",
    "  keras.layers.Dropout(rate=0.2),\n",
    "  #\n",
    "  keras.layers.Conv1DTranspose(\n",
    "    filters=32, kernel_size=7, padding=\"same\", strides=2, activation=\"relu\"),\n",
    "  #\n",
    "  keras.layers.Conv1DTranspose(filters=1, kernel_size=7, padding=\"same\"),\n",
    "]\n",
    "\n",
    "\n",
    "# arranging the keras model in a sequential order  \n",
    "model = keras.Sequential(layers)\n",
    "\n",
    "\n",
    "# algorithm for stochastic gradient descent for training deep learning models\n",
    "optimizer = keras.optimizers.Adam(learning_rate=0.001)\n",
    "\n",
    "\n",
    "# defining the loss function, the optimizer and the metrics\n",
    "model.compile(optimizer=optimizer, loss=\"mse\")\n",
    "model.summary()"
   ]
  },
  {
   "cell_type": "markdown",
   "id": "2a7a26fb-029c-4ca5-8d3c-69d2d0323b86",
   "metadata": {},
   "source": [
    "The fit method is then used to train the data for a fixed number of iterations on the data https://keras.io/api/models/model_training_apis/. \n",
    "\n",
    "In the code we the Keras example has input the same training data with 288 windows of data for the input variable and the output variable, the reaosn this is done is because the datset used to train this data has no anomalies in it and it is a reconstruction model. The epochs have been set to 50 in order to iterate over the data 50 time sin order to come to the final model. The batch size argument will split the data into batches, dependind on the number it is set to. Here the data is split into 128 batches. \n",
    "\n",
    "The validation_split argument sets the fraction of the data to be split and taken out from the trianing of the model, so here 0.2 is used. Therefore 20% of the data will be used for validation, so whne the model has comeplted each epoch it will iterate over the validation dataset and compute the validation loss and validation metrics.\n",
    "\n",
    "Callbacks are another argument used in the model fit which are objects that are called at different points in the training to see if the model is improving, here the EarlyStopping callback is used. In this case it is implemented that mode has been set to 'min' meaning that if the quantity monitored of the validation loss ('val_loss') has stopped decreasing then the training will stop. The patience argument in the callback sets a limit, so if there no improvements within 5 epochs the model will stop training https://keras.io/api/callbacks/early_stopping/. These callbacks are called at different points in the training, e.g. at the start of an epoch, at the end of a batch, at the end of an epoch, etc https://keras.io/api/callbacks/early_stopping/.\n"
   ]
  },
  {
   "cell_type": "code",
   "execution_count": 39,
   "id": "1dccb767",
   "metadata": {},
   "outputs": [
    {
     "name": "stdout",
     "output_type": "stream",
     "text": [
      "Epoch 1/50\n",
      "27/27 [==============================] - 3s 54ms/step - loss: 0.5362 - val_loss: 0.0595\n",
      "Epoch 2/50\n",
      "27/27 [==============================] - 1s 43ms/step - loss: 0.0765 - val_loss: 0.0413\n",
      "Epoch 3/50\n",
      "27/27 [==============================] - 1s 43ms/step - loss: 0.0563 - val_loss: 0.0348\n",
      "Epoch 4/50\n",
      "27/27 [==============================] - 1s 43ms/step - loss: 0.0474 - val_loss: 0.0288\n",
      "Epoch 5/50\n",
      "27/27 [==============================] - 1s 43ms/step - loss: 0.0410 - val_loss: 0.0254\n",
      "Epoch 6/50\n",
      "27/27 [==============================] - 1s 42ms/step - loss: 0.0362 - val_loss: 0.0239\n",
      "Epoch 7/50\n",
      "27/27 [==============================] - 1s 43ms/step - loss: 0.0320 - val_loss: 0.0220\n",
      "Epoch 8/50\n",
      "27/27 [==============================] - 1s 44ms/step - loss: 0.0290 - val_loss: 0.0212\n",
      "Epoch 9/50\n",
      "27/27 [==============================] - 1s 42ms/step - loss: 0.0268 - val_loss: 0.0210\n",
      "Epoch 10/50\n",
      "27/27 [==============================] - 1s 44ms/step - loss: 0.0252 - val_loss: 0.0196\n",
      "Epoch 11/50\n",
      "27/27 [==============================] - 1s 42ms/step - loss: 0.0239 - val_loss: 0.0202\n",
      "Epoch 12/50\n",
      "27/27 [==============================] - 1s 44ms/step - loss: 0.0229 - val_loss: 0.0199\n",
      "Epoch 13/50\n",
      "27/27 [==============================] - 1s 43ms/step - loss: 0.0221 - val_loss: 0.0205\n",
      "Epoch 14/50\n",
      "27/27 [==============================] - 1s 43ms/step - loss: 0.0211 - val_loss: 0.0196\n",
      "Epoch 15/50\n",
      "27/27 [==============================] - 1s 44ms/step - loss: 0.0206 - val_loss: 0.0204\n",
      "Epoch 16/50\n",
      "27/27 [==============================] - 1s 42ms/step - loss: 0.0199 - val_loss: 0.0201\n",
      "Epoch 17/50\n",
      "27/27 [==============================] - 1s 44ms/step - loss: 0.0193 - val_loss: 0.0191\n",
      "Epoch 18/50\n",
      "27/27 [==============================] - 1s 43ms/step - loss: 0.0187 - val_loss: 0.0191\n",
      "Epoch 19/50\n",
      "27/27 [==============================] - 1s 43ms/step - loss: 0.0181 - val_loss: 0.0205\n",
      "Epoch 20/50\n",
      "27/27 [==============================] - 1s 44ms/step - loss: 0.0176 - val_loss: 0.0195\n",
      "Epoch 21/50\n",
      "27/27 [==============================] - 1s 44ms/step - loss: 0.0171 - val_loss: 0.0194\n",
      "Epoch 22/50\n",
      "27/27 [==============================] - 1s 44ms/step - loss: 0.0166 - val_loss: 0.0194\n"
     ]
    }
   ],
   "source": [
    "# buidling the model, fitting the model to the data\n",
    "# input and ouput data is same here as this data has no anomlaies in it\n",
    "# training will stop when the quantity monitored has stopped decreasing\n",
    "# Stop training when `val_loss` is no longer improving\n",
    "# 5 epochs without improvement stops training\n",
    "history = model.fit(\n",
    "    x_train,\n",
    "    x_train,\n",
    "    epochs=50,\n",
    "    batch_size=128,\n",
    "    validation_split=0.1,\n",
    "    callbacks=[\n",
    "        keras.callbacks.EarlyStopping(monitor=\"val_loss\", patience=5, mode=\"min\")\n",
    "    ],\n",
    ")"
   ]
  },
  {
   "cell_type": "markdown",
   "id": "e5d9b112",
   "metadata": {},
   "source": [
    "<hr style=\"border-top: 1px solid #001a79;\" />\n",
    "\n",
    "### Evaluation\n",
    "\n",
    "<hr style=\"border-top: 1px solid #001a79;\" />\n",
    "\n",
    "The history object is used in order to get the history attribute which will return the loss values and at each of the epochs, it will also tell us the validation loss values and validation metric values when traing and validating the model https://keras.io/api/models/model_training_apis/. \n"
   ]
  },
  {
   "cell_type": "code",
   "execution_count": 40,
   "id": "81789962",
   "metadata": {},
   "outputs": [
    {
     "data": {
      "text/plain": [
       "[0.5361616611480713,\n",
       " 0.07654782384634018,\n",
       " 0.05627945065498352,\n",
       " 0.04739886149764061,\n",
       " 0.041048161685466766,\n",
       " 0.03616125509142876,\n",
       " 0.0320487879216671,\n",
       " 0.02899348735809326,\n",
       " 0.026831915602087975,\n",
       " 0.025198016315698624,\n",
       " 0.023905742913484573,\n",
       " 0.022911369800567627,\n",
       " 0.022112121805548668,\n",
       " 0.021122775971889496,\n",
       " 0.02055119164288044,\n",
       " 0.019868403673171997,\n",
       " 0.019288688898086548,\n",
       " 0.01868440955877304,\n",
       " 0.018144745379686356,\n",
       " 0.017635738477110863,\n",
       " 0.017105914652347565,\n",
       " 0.01663995534181595]"
      ]
     },
     "execution_count": 40,
     "metadata": {},
     "output_type": "execute_result"
    }
   ],
   "source": [
    "# training loss vlauers\n",
    "history.history[\"loss\"]"
   ]
  },
  {
   "cell_type": "code",
   "execution_count": 41,
   "id": "a4ec510d",
   "metadata": {},
   "outputs": [
    {
     "data": {
      "text/plain": [
       "[0.05953788757324219,\n",
       " 0.04127943515777588,\n",
       " 0.03484850749373436,\n",
       " 0.02881186082959175,\n",
       " 0.025369267910718918,\n",
       " 0.023929137736558914,\n",
       " 0.0219664815813303,\n",
       " 0.021202977746725082,\n",
       " 0.020959533751010895,\n",
       " 0.01962752267718315,\n",
       " 0.020156467333436012,\n",
       " 0.01993905007839203,\n",
       " 0.020467443391680717,\n",
       " 0.01955992914736271,\n",
       " 0.020400090143084526,\n",
       " 0.020109543576836586,\n",
       " 0.019093427807092667,\n",
       " 0.01912384107708931,\n",
       " 0.0205171387642622,\n",
       " 0.019475357607007027,\n",
       " 0.019409937784075737,\n",
       " 0.019367817789316177]"
      ]
     },
     "execution_count": 41,
     "metadata": {},
     "output_type": "execute_result"
    }
   ],
   "source": [
    "history.history[\"val_loss\"]"
   ]
  },
  {
   "cell_type": "code",
   "execution_count": 42,
   "id": "9d77db04",
   "metadata": {},
   "outputs": [
    {
     "data": {
      "image/png": "[encoded data removed]",
      "text/plain": [
       "<Figure size 720x432 with 1 Axes>"
      ]
     },
     "metadata": {
      "needs_background": "light"
     },
     "output_type": "display_data"
    }
   ],
   "source": [
    "# defining our plot size \n",
    "fig, ax = plt.subplots(figsize=(10, 6))\n",
    "\n",
    "# ploting the training loss values\n",
    "ax.plot(history.history[\"loss\"], label=\"Training Loss\")\n",
    "\n",
    "# plotting the validation loss values \n",
    "ax.plot(history.history[\"val_loss\"], label=\"Validation Loss\")\n",
    "\n",
    "# add legend to plot \n",
    "ax.legend();"
   ]
  },
  {
   "cell_type": "code",
   "execution_count": 43,
   "id": "44aae03f",
   "metadata": {},
   "outputs": [
    {
     "name": "stdout",
     "output_type": "stream",
     "text": [
      "118/118 [==============================] - 1s 8ms/step\n"
     ]
    }
   ],
   "source": [
    "# Get train MAE loss.\n",
    "x_train_pred = model.predict(x_train)"
   ]
  },
  {
   "cell_type": "code",
   "execution_count": 44,
   "id": "5ce46dc8",
   "metadata": {},
   "outputs": [
    {
     "data": {
      "image/png": "[encoded data removed]",
      "text/plain": [
       "<Figure size 720x432 with 1 Axes>"
      ]
     },
     "metadata": {
      "needs_background": "light"
     },
     "output_type": "display_data"
    }
   ],
   "source": [
    "# Calculate mean squared loss\n",
    "train_mae_loss = np.mean(np.abs(x_train_pred - x_train), axis=1)\n",
    "\n",
    "# defining our plot size \n",
    "fig, ax = plt.subplots(figsize=(10, 6))\n",
    "\n",
    "# plotting histogram of MAE loss\n",
    "ax.hist(train_mae_loss, bins=50)\n",
    "\n",
    "# x label\n",
    "ax.set_xlabel(\"Train MAE loss\")\n",
    "\n",
    "# y label\n",
    "ax.set_ylabel(\"No of samples\");"
   ]
  },
  {
   "cell_type": "code",
   "execution_count": 45,
   "id": "09ad4f3e",
   "metadata": {},
   "outputs": [
    {
     "data": {
      "text/plain": [
       "0.13425088155831247"
      ]
     },
     "execution_count": 45,
     "metadata": {},
     "output_type": "execute_result"
    }
   ],
   "source": [
    "# Get reconstruction loss threshold.\n",
    "threshold = np.max(train_mae_loss)\n",
    "\n",
    "# print it out\n",
    "threshold"
   ]
  },
  {
   "cell_type": "code",
   "execution_count": 46,
   "id": "8201c8fa",
   "metadata": {},
   "outputs": [
    {
     "data": {
      "image/png": "[encoded data removed]",
      "text/plain": [
       "<Figure size 720x432 with 1 Axes>"
      ]
     },
     "metadata": {
      "needs_background": "light"
     },
     "output_type": "display_data"
    }
   ],
   "source": [
    "# defining the figure and axes \n",
    "fig, ax = plt.subplots(figsize=(10, 6))\n",
    "\n",
    "# plot first window training data\n",
    "ax.plot(x_train[0])\n",
    "\n",
    "# plot first window predicted data\n",
    "ax.plot(x_train_pred[0]);"
   ]
  },
  {
   "cell_type": "code",
   "execution_count": 47,
   "id": "22c1154e",
   "metadata": {},
   "outputs": [
    {
     "data": {
      "image/png": "[encoded data removed]",
      "text/plain": [
       "<Figure size 720x432 with 1 Axes>"
      ]
     },
     "metadata": {
      "needs_background": "light"
     },
     "output_type": "display_data"
    }
   ],
   "source": [
    "# normalising the values\n",
    "df_test_value = (df_daily_jumpsup - train_mean) / train_std\n",
    "\n",
    "# defining figure and axes\n",
    "fig, ax = plt.subplots(figsize=(10, 6))\n",
    "\n",
    "# plotting the normalised data\n",
    "df_test_value.plot(legend=False, ax=ax);"
   ]
  },
  {
   "cell_type": "code",
   "execution_count": 48,
   "id": "f80918f2",
   "metadata": {},
   "outputs": [
    {
     "data": {
      "text/plain": [
       "(3745, 288, 1)"
      ]
     },
     "execution_count": 48,
     "metadata": {},
     "output_type": "execute_result"
    }
   ],
   "source": [
    "# Create sequences from test values.\n",
    "x_test = windows(df_test_value.values)\n",
    "\n",
    "x_test.shape"
   ]
  },
  {
   "cell_type": "code",
   "execution_count": 49,
   "id": "2d98a036",
   "metadata": {},
   "outputs": [
    {
     "name": "stdout",
     "output_type": "stream",
     "text": [
      "118/118 [==============================] - 1s 8ms/step\n"
     ]
    }
   ],
   "source": [
    "# run the model on the test data\n",
    "x_test_pred = model.predict(x_test)"
   ]
  },
  {
   "cell_type": "markdown",
   "id": "7bf51c60-01fa-4df0-a59d-0f88bdd74276",
   "metadata": {},
   "source": [
    "Look at what test MAE loss is....\n",
    "\n",
    "\n",
    "\n",
    "\n",
    "\n"
   ]
  },
  {
   "cell_type": "code",
   "execution_count": 50,
   "id": "578d5db9",
   "metadata": {},
   "outputs": [
    {
     "data": {
      "text/plain": [
       "array([[0.11287699],\n",
       "       [0.11463677],\n",
       "       [0.11654576],\n",
       "       ...,\n",
       "       [0.11609515],\n",
       "       [0.11575579],\n",
       "       [0.1145096 ]])"
      ]
     },
     "execution_count": 50,
     "metadata": {},
     "output_type": "execute_result"
    }
   ],
   "source": [
    "# calculate the mae loss for test data \n",
    "test_mae_loss = np.mean(np.abs(x_test_pred - x_test), axis=1)\n",
    "test_mae_loss"
   ]
  },
  {
   "cell_type": "code",
   "execution_count": 51,
   "id": "56b68a2f",
   "metadata": {},
   "outputs": [
    {
     "data": {
      "text/plain": [
       "array([0.11287699, 0.11463677, 0.11654576, ..., 0.11609515, 0.11575579,\n",
       "       0.1145096 ])"
      ]
     },
     "execution_count": 51,
     "metadata": {},
     "output_type": "execute_result"
    }
   ],
   "source": [
    "# format data into a row instead of a column\n",
    "test_mae_loss = test_mae_loss.reshape((-1))\n",
    "test_mae_loss"
   ]
  },
  {
   "cell_type": "code",
   "execution_count": 52,
   "id": "2c58d01e",
   "metadata": {},
   "outputs": [
    {
     "data": {
      "image/png": "[encoded data removed]",
      "text/plain": [
       "<Figure size 720x432 with 1 Axes>"
      ]
     },
     "metadata": {
      "needs_background": "light"
     },
     "output_type": "display_data"
    }
   ],
   "source": [
    "# defining figure and axes\n",
    "fig, ax = plt.subplots(figsize=(10, 6))\n",
    "\n",
    "# histogram of mae loss data\n",
    "ax.hist(test_mae_loss, bins=50)\n",
    "\n",
    "# x label \n",
    "ax.set_xlabel(\"test MAE loss\")\n",
    "\n",
    "# y label\n",
    "ax.set_ylabel(\"No of samples\");"
   ]
  },
  {
   "cell_type": "markdown",
   "id": "503057dd-fc69-40f7-8b4c-74ea6b94cad2",
   "metadata": {},
   "source": [
    "To find the anomalies in the data, we create the inequality that if the MAE loss is greater than the threshold which was the maximum mae loss for the training data. This is the definition used for the anomaly, the number of these is outputted below. "
   ]
  },
  {
   "cell_type": "code",
   "execution_count": 53,
   "id": "804cbc2f",
   "metadata": {},
   "outputs": [
    {
     "data": {
      "text/plain": [
       "400"
      ]
     },
     "execution_count": 53,
     "metadata": {},
     "output_type": "execute_result"
    }
   ],
   "source": [
    "# Detect all the samples which are anomalies.\n",
    "anomalies = test_mae_loss > threshold\n",
    "\n",
    "# NUmber of anomalies.\n",
    "np.sum(anomalies)"
   ]
  },
  {
   "cell_type": "code",
   "execution_count": 54,
   "id": "901eadfa",
   "metadata": {},
   "outputs": [],
   "source": [
    "# data i is an anomaly if samples [(i - timesteps + 1) to (i)] are anomalies\n",
    "inds = []\n",
    "\n",
    "for i in range(window_size - 1, len(df_test_value) - window_size + 1):\n",
    "    if np.all(anomalies[i - window_size + 1 : i]):\n",
    "        inds.append(i)"
   ]
  },
  {
   "cell_type": "code",
   "execution_count": 55,
   "id": "8bdeff03",
   "metadata": {},
   "outputs": [
    {
     "data": {
      "image/png": "[encoded data removed]",
      "text/plain": [
       "<Figure size 720x432 with 1 Axes>"
      ]
     },
     "metadata": {
      "needs_background": "light"
     },
     "output_type": "display_data"
    }
   ],
   "source": [
    "# subset of dataset where there are anaomalies\n",
    "df_subset = df_daily_jumpsup.iloc[inds]\n",
    "\n",
    "# defining figure and axes\n",
    "fig, ax = plt.subplots(figsize=(10, 6))\n",
    " \n",
    "# plot dataset \n",
    "df_daily_jumpsup.plot(legend=False, ax=ax)\n",
    "\n",
    "# plot the anomalies in red on same graph\n",
    "df_subset.plot(legend=False, ax=ax, color=\"r\");"
   ]
  },
  {
   "cell_type": "code",
   "execution_count": null,
   "id": "fe7298b2",
   "metadata": {},
   "outputs": [],
   "source": []
  },
  {
   "cell_type": "code",
   "execution_count": null,
   "id": "9b421094",
   "metadata": {},
   "outputs": [],
   "source": []
  },
  {
   "cell_type": "code",
   "execution_count": null,
   "id": "f5e50e2f",
   "metadata": {},
   "outputs": [],
   "source": []
  },
  {
   "cell_type": "code",
   "execution_count": null,
   "id": "234c857f",
   "metadata": {},
   "outputs": [],
   "source": []
  },
  {
   "cell_type": "markdown",
   "id": "2fc531cf",
   "metadata": {},
   "source": [
    "## References\n",
    " 1. https://www.kaggle.com/datasets/boltzmannbrain/nab "
   ]
  },
  {
   "cell_type": "code",
   "execution_count": null,
   "id": "bc569148",
   "metadata": {},
   "outputs": [],
   "source": []
  }
 ],
 "metadata": {
  "kernelspec": {
   "display_name": "Python 3",
   "language": "python",
   "name": "python3"
  },
  "language_info": {
   "codemirror_mode": {
    "name": "ipython",
    "version": 3
   },
   "file_extension": ".py",
   "mimetype": "text/x-python",
   "name": "python",
   "nbconvert_exporter": "python",
   "pygments_lexer": "ipython3",
   "version": "3.8.8"
  }
 },
 "nbformat": 4,
 "nbformat_minor": 5
}
